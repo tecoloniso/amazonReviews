{
 "cells": [
  {
   "cell_type": "code",
   "execution_count": 1,
   "id": "6d932b15",
   "metadata": {},
   "outputs": [],
   "source": [
    "from selenium import webdriver\n",
    "from selenium.webdriver.common.by import By\n",
    "from selenium.webdriver.common.keys import Keys\n",
    "from selenium.webdriver.support.ui import WebDriverWait\n",
    "from selenium.webdriver.support import expected_conditions as EC\n",
    "import pickle\n",
    "import time\n",
    "from bs4 import BeautifulSoup"
   ]
  },
  {
   "cell_type": "markdown",
   "id": "a41e8da3",
   "metadata": {},
   "source": [
    "### 1. Iniciamos sesión y guardamos las cookies para evitar volver a iniciar sesión:"
   ]
  },
  {
   "cell_type": "code",
   "execution_count": 2,
   "id": "16f6737a",
   "metadata": {},
   "outputs": [
    {
     "name": "stdin",
     "output_type": "stream",
     "text": [
      "Inicia sesión y presiona Enter para continuar... \n"
     ]
    },
    {
     "name": "stdout",
     "output_type": "stream",
     "text": [
      "Cookies guardadas correctamente.\n"
     ]
    }
   ],
   "source": [
    "# Configura tu navegador (en este caso, Chrome)\n",
    "driver = webdriver.Chrome()\n",
    "\n",
    "# Abre la página de Amazon\n",
    "driver.get('https://www.amazon.es')\n",
    "\n",
    "# Espera a que el usuario inicie sesión manualmente\n",
    "input(\"Inicia sesión y presiona Enter para continuar...\")\n",
    "\n",
    "# Guarda las cookies en un archivo\n",
    "cookies = driver.get_cookies()  # Obtiene todas las cookies\n",
    "with open('amazon_cookies.pkl', 'wb') as f:\n",
    "    pickle.dump(cookies, f)\n",
    "\n",
    "print(\"Cookies guardadas correctamente.\")"
   ]
  },
  {
   "cell_type": "markdown",
   "id": "cd351e20",
   "metadata": {},
   "source": [
    "### 2. Creamos funciones para ayudarnos en la extracción de las reseñas:"
   ]
  },
  {
   "cell_type": "markdown",
   "id": "c35d08c2",
   "metadata": {},
   "source": [
    "Obtiene las páginas HTML de un las reseñas de un producto, con un número de estrellas concreto."
   ]
  },
  {
   "cell_type": "code",
   "execution_count": 3,
   "id": "1aa0f232",
   "metadata": {},
   "outputs": [],
   "source": [
    "def get_reviews_html(driver, product_id, star_filter):\n",
    "    first_page_url = f\"https://www.amazon.es/product-reviews/{product_id}/ref=acr_dp_hist_5?ie=UTF8&filterByStar={star_filter}&reviewerType=all_reviews#reviews-filter-bar\"\n",
    "\n",
    "    html_datas = []\n",
    "    # Pedimos la página\n",
    "    driver.get(first_page_url)\n",
    "    time.sleep(5)  # Espera a que cargue la página\n",
    "\n",
    "    for i in range (0, 11):\n",
    "        # Guarda el HTML de la página actual\n",
    "        html_datas.append(driver.page_source)\n",
    "\n",
    "        try:\n",
    "            # Esperar a que el botón \"Siguiente\" esté presente y sea clickeable\n",
    "            next_button = WebDriverWait(driver, 5).until(\n",
    "                EC.element_to_be_clickable((By.CLASS_NAME, \"a-last\"))\n",
    "            )\n",
    "            \n",
    "            # Si el botón \"Siguiente\" está deshabilitado, hemos llegado al final\n",
    "            if \"a-disabled\" in next_button.get_attribute(\"class\"):\n",
    "                print(\"No hay más páginas de reseñas.\")\n",
    "                break\n",
    "\n",
    "            # Hacer clic en \"Siguiente\"\n",
    "            next_button.click()\n",
    "            time.sleep(5)  # Esperar a que cargue la nueva página\n",
    "        except:\n",
    "            print(\"No se encontró el botón 'Siguiente' o se llegó al final de las páginas.\")\n",
    "            break  # Salimos del bucle si no se encuentra el botón\n",
    "\n",
    "    return html_datas"
   ]
  },
  {
   "cell_type": "markdown",
   "id": "5f575f1e",
   "metadata": {},
   "source": [
    "Dada una página HTML, devuelve las reseñas en formato BeautifulSoup."
   ]
  },
  {
   "cell_type": "code",
   "execution_count": 4,
   "id": "c3946264",
   "metadata": {},
   "outputs": [],
   "source": [
    "def get_reviews_from_html(page_html: str) -> BeautifulSoup:\n",
    "    soup = BeautifulSoup(page_html, \"lxml\")\n",
    "    reviews = soup.find_all(\"div\", {\"class\": \"a-section celwidget\"})\n",
    "    return reviews"
   ]
  },
  {
   "cell_type": "markdown",
   "id": "92cceff8",
   "metadata": {},
   "source": [
    "Dada una reseña en formato BeautifulSoup, devuelve la reseña en formato texto."
   ]
  },
  {
   "cell_type": "code",
   "execution_count": 5,
   "id": "eb42c95b",
   "metadata": {},
   "outputs": [],
   "source": [
    "from langdetect import detect\n",
    "\n",
    "def get_review_text(soup_object: BeautifulSoup) -> str:\n",
    "    # Extraemos el texto de la reseña\n",
    "    review_text = soup_object.find(\n",
    "        \"span\", {\"class\": \"a-size-base review-text review-text-content\"}\n",
    "    ).get_text()\n",
    "    \n",
    "    # Detectamos el idioma de la reseña\n",
    "    try:\n",
    "        lang = detect(review_text)\n",
    "    except:\n",
    "        lang = 'unknown'  # En caso de que no se pueda detectar el idioma\n",
    "    \n",
    "    # Filtramos solo las reseñas en español\n",
    "    if lang == 'es':\n",
    "        return review_text.strip()\n",
    "    else:\n",
    "        return None  # Si no está en español, devolvemos None (o podemos omitirla)\n",
    "\n"
   ]
  },
  {
   "cell_type": "markdown",
   "id": "21304064",
   "metadata": {},
   "source": [
    "### 3. Obtenemos los ID-s de los productos que nos interesan sus reseñas:"
   ]
  },
  {
   "cell_type": "code",
   "execution_count": 23,
   "id": "be4fd209",
   "metadata": {},
   "outputs": [],
   "source": [
    "ids = [\n",
    "    \"B0D87LPWWF\"\n",
    "]\n"
   ]
  },
  {
   "cell_type": "markdown",
   "id": "4b31dfc8",
   "metadata": {},
   "source": [
    "### 4. Extraemos las reseñas:"
   ]
  },
  {
   "cell_type": "code",
   "execution_count": 8,
   "id": "00f97d34-e78c-46c6-9093-0a49c5a4c4db",
   "metadata": {},
   "outputs": [
    {
     "name": "stdout",
     "output_type": "stream",
     "text": [
      "Collecting lxml\n",
      "  Downloading lxml-5.3.0-cp311-cp311-win_amd64.whl.metadata (3.9 kB)\n",
      "Downloading lxml-5.3.0-cp311-cp311-win_amd64.whl (3.8 MB)\n",
      "   ---------------------------------------- 0.0/3.8 MB ? eta -:--:--\n",
      "   ---------------------------------------- 0.0/3.8 MB ? eta -:--:--\n",
      "   ---------------------------------------- 0.0/3.8 MB 653.6 kB/s eta 0:00:06\n",
      "   --- ------------------------------------ 0.3/3.8 MB 3.5 MB/s eta 0:00:01\n",
      "   -------- ------------------------------- 0.8/3.8 MB 6.3 MB/s eta 0:00:01\n",
      "   ------------- -------------------------- 1.3/3.8 MB 7.5 MB/s eta 0:00:01\n",
      "   -------------------- ------------------- 1.9/3.8 MB 8.7 MB/s eta 0:00:01\n",
      "   -------------------------- ------------- 2.6/3.8 MB 10.2 MB/s eta 0:00:01\n",
      "   ----------------------------------- ---- 3.4/3.8 MB 11.9 MB/s eta 0:00:01\n",
      "   ---------------------------------------  3.8/3.8 MB 12.2 MB/s eta 0:00:01\n",
      "   ---------------------------------------- 3.8/3.8 MB 10.6 MB/s eta 0:00:00\n",
      "Installing collected packages: lxml\n",
      "Successfully installed lxml-5.3.0\n"
     ]
    }
   ],
   "source": [
    "!pip install lxml"
   ]
  },
  {
   "cell_type": "code",
   "execution_count": 6,
   "id": "b28ea088",
   "metadata": {},
   "outputs": [
    {
     "name": "stdout",
     "output_type": "stream",
     "text": [
      "Cookies cargadas correctamente.\n",
      "Extrayendo reseñas del producto.\n",
      "Extrayendo reseñas del producto de one_star estrellas...\n",
      "No hay más páginas de reseñas.\n",
      "Extrayendo reseñas del producto de two_star estrellas...\n",
      "No se encontró el botón 'Siguiente' o se llegó al final de las páginas.\n",
      "Extrayendo reseñas del producto de three_star estrellas...\n",
      "No hay más páginas de reseñas.\n",
      "Extrayendo reseñas del producto de four_star estrellas...\n",
      "No hay más páginas de reseñas.\n",
      "Extrayendo reseñas del producto de five_star estrellas...\n",
      "No hay más páginas de reseñas.\n"
     ]
    }
   ],
   "source": [
    "from selenium import webdriver\n",
    "from selenium.webdriver.common.by import By\n",
    "from selenium.webdriver.common.keys import Keys\n",
    "from selenium.webdriver.support.ui import WebDriverWait\n",
    "from selenium.webdriver.support import expected_conditions as EC\n",
    "import pickle\n",
    "import time\n",
    "\n",
    "# Configura el navegador\n",
    "driver = webdriver.Chrome()\n",
    "\n",
    "# Abre Amazon\n",
    "driver.get('https://www.amazon.es')\n",
    "\n",
    "# Cargar cookies si existen\n",
    "try:\n",
    "    with open('amazon_cookies.pkl', 'rb') as f:\n",
    "        cookies = pickle.load(f)\n",
    "        for cookie in cookies:\n",
    "            driver.add_cookie(cookie)\n",
    "\n",
    "    driver.refresh()\n",
    "    print(\"Cookies cargadas correctamente.\")\n",
    "except FileNotFoundError:\n",
    "    print(\"No se encontraron cookies guardadas. Inicia sesión manualmente.\")\n",
    "\n",
    "stars_mapping = {\n",
    "    'one_star': 1,\n",
    "    'two_star': 2,\n",
    "    'three_star': 3,\n",
    "    'four_star': 4,\n",
    "    'five_star': 5,\n",
    "    }\n",
    "\n",
    "reviews = {1: [],\n",
    "           2: [],\n",
    "           3: [],\n",
    "           4: [],\n",
    "           5: []}\n",
    "\n",
    "star_filters = ['one_star', 'two_star', 'three_star', 'four_star', 'five_star']\n",
    "product_id = \"B0D87LPWWF\"\n",
    "\n",
    "print(f\"Extrayendo reseñas del producto.\")\n",
    "for star_filter in star_filters:\n",
    "    print(f'Extrayendo reseñas del producto de {star_filter} estrellas...')\n",
    "    # Obtenemos las páginas HTML de interes\n",
    "    reviews_html = get_reviews_html(driver, product_id, star_filter)\n",
    "    \n",
    "    for html in reviews_html:\n",
    "        soup_reviews = get_reviews_from_html(html)\n",
    "        \n",
    "        for soup_review in soup_reviews:\n",
    "            review_text = get_review_text(soup_review)\n",
    "            if review_text:  # Solo añade si no es None (es decir, si la reseña está en español)\n",
    "                reviews[stars_mapping[star_filter]].append(review_text)\n",
    "        \n",
    "    \n",
    "# Cierra el navegador\n",
    "driver.quit()\n"
   ]
  },
  {
   "cell_type": "code",
   "execution_count": 7,
   "id": "52f50215",
   "metadata": {},
   "outputs": [
    {
     "name": "stdout",
     "output_type": "stream",
     "text": [
      "4\n"
     ]
    },
    {
     "data": {
      "text/plain": [
       "118"
      ]
     },
     "execution_count": 7,
     "metadata": {},
     "output_type": "execute_result"
    }
   ],
   "source": [
    "print(len(reviews[2]))\n",
    "# Contamos el número total de elementos en las listas dentro del diccionario\n",
    "num_elementos_totales = sum(len(v) for v in reviews.values())\n",
    "num_elementos_totales\n"
   ]
  },
  {
   "cell_type": "markdown",
   "id": "5e968ccd",
   "metadata": {},
   "source": [
    "### 5. Convertimos las reseñas en un DataFrame:"
   ]
  },
  {
   "cell_type": "code",
   "execution_count": 8,
   "id": "d88a4411",
   "metadata": {},
   "outputs": [
    {
     "name": "stdout",
     "output_type": "stream",
     "text": [
      "                                                review  stars\n",
      "0    Es un bote para rociar aceite, mi opinión es q...      1\n",
      "1    Lo siento , es fatal, no pulveriza nada bien. ...      1\n",
      "2         No hace su función de spray. No lo aconsejo.      1\n",
      "3    Funciona el primer día luego para tirarlo me d...      1\n",
      "4             A los pocos usos se ha atascado el spray      1\n",
      "..                                                 ...    ...\n",
      "113  Muy cómodo y práctico. Rápida entrega y en el ...      5\n",
      "114  Muy buena y fácil de usar ! Practica para pode...      5\n",
      "115  Buen material, resistente y echa la cantidad p...      5\n",
      "116  Bastante potencia y no desperdicia aceite, bue...      5\n",
      "117  Apto para todo tipo de usos y producto de muy ...      5\n",
      "\n",
      "[118 rows x 2 columns]\n"
     ]
    }
   ],
   "source": [
    "import pandas as pd\n",
    "\n",
    "# Inicializamos listas vacías para reseñas y estrellas\n",
    "review_list = []\n",
    "stars_list = []\n",
    "\n",
    "# Recorremos el diccionario y agregamos las reseñas y estrellas a las listas\n",
    "for stars, review_texts in reviews.items():\n",
    "    for review in review_texts:\n",
    "        review_list.append(review)\n",
    "        stars_list.append(stars)\n",
    "\n",
    "# Creamos el DataFrame\n",
    "reviews_df = pd.DataFrame({\n",
    "    'review': review_list,\n",
    "    'stars': stars_list\n",
    "})\n",
    "\n",
    "# Mostrar el DataFrame\n",
    "print(reviews_df)\n"
   ]
  },
  {
   "cell_type": "markdown",
   "id": "85900c50",
   "metadata": {},
   "source": [
    "### 6. Guardamos el DataFrame en un archivo .csv:"
   ]
  },
  {
   "cell_type": "code",
   "execution_count": 10,
   "id": "951e7e38",
   "metadata": {},
   "outputs": [],
   "source": [
    "# Guardar el DataFrame en un archivo CSV\n",
    "reviews_df.to_csv('reviews_prod_20_29.csv', index=False)"
   ]
  },
  {
   "cell_type": "markdown",
   "id": "ad78f10e",
   "metadata": {},
   "source": [
    "### 7. Fusionamos los 3 datasets generados:"
   ]
  },
  {
   "cell_type": "code",
   "execution_count": 38,
   "id": "110d1eba",
   "metadata": {},
   "outputs": [
    {
     "name": "stdout",
     "output_type": "stream",
     "text": [
      "                                              review  stars\n",
      "0  900€ de IPhone para que a los 8 meses de compr...      1\n",
      "1  He comprado este iPhone 14 y lo he puesto a 4 ...      1\n",
      "2  Desde el momento 0 de tener este móvil me dio ...      1\n",
      "3  Si, el producto está perfecto. Sería si habían...      1\n",
      "4  Le he regalado a mi novia un iPhone 14 comprad...      1\n",
      "Número de filas: 8441\n"
     ]
    }
   ],
   "source": [
    "# Rutas de los datasets\n",
    "path_1 = \"data/reviews_prod_0_9.csv\"\n",
    "path_2 = \"data/reviews_prod_10_19.csv\"\n",
    "path_3 = \"data/reviews_prod_20_29.csv\"\n",
    "\n",
    "# Cargamos los datasets\n",
    "data_1 = pd.read_csv(path_1)\n",
    "data_2 = pd.read_csv(path_2)\n",
    "data_3 = pd.read_csv(path_3)\n",
    "\n",
    "# Fusionamos los tres DataFrames\n",
    "data_combined = pd.concat([data_1, data_2, data_3], ignore_index=True)\n",
    "\n",
    "print(data_combined.head())\n",
    "# Imprimir la longitud (número de filas)\n",
    "print(\"Número de filas:\", len(data_combined))"
   ]
  },
  {
   "cell_type": "code",
   "execution_count": 39,
   "id": "9c50113f",
   "metadata": {},
   "outputs": [],
   "source": [
    "# Guardamos el dataset combinado en un nuevo CSV\n",
    "data_combined.to_csv(\"data/reviews.csv\", index=False)"
   ]
  }
 ],
 "metadata": {
  "kernelspec": {
   "display_name": "Python 3 (ipykernel)",
   "language": "python",
   "name": "python3"
  },
  "language_info": {
   "codemirror_mode": {
    "name": "ipython",
    "version": 3
   },
   "file_extension": ".py",
   "mimetype": "text/x-python",
   "name": "python",
   "nbconvert_exporter": "python",
   "pygments_lexer": "ipython3",
   "version": "3.11.8"
  }
 },
 "nbformat": 4,
 "nbformat_minor": 5
}
