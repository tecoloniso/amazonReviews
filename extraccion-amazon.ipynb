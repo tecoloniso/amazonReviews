{
 "cells": [
  {
   "cell_type": "code",
   "execution_count": 1,
   "id": "3131eea3-deb5-4735-a3df-bc9d0a10d40d",
   "metadata": {},
   "outputs": [
    {
     "name": "stdout",
     "output_type": "stream",
     "text": [
      "Requirement already satisfied: selenium in c:\\users\\alumno\\.conda\\envs\\py311ml\\lib\\site-packages (4.28.1)\n",
      "Requirement already satisfied: urllib3<3,>=1.26 in c:\\users\\alumno\\.conda\\envs\\py311ml\\lib\\site-packages (from urllib3[socks]<3,>=1.26->selenium) (2.2.2)\n",
      "Requirement already satisfied: trio~=0.17 in c:\\users\\alumno\\.conda\\envs\\py311ml\\lib\\site-packages (from selenium) (0.28.0)\n",
      "Requirement already satisfied: trio-websocket~=0.9 in c:\\users\\alumno\\.conda\\envs\\py311ml\\lib\\site-packages (from selenium) (0.11.1)\n",
      "Requirement already satisfied: certifi>=2021.10.8 in c:\\users\\alumno\\.conda\\envs\\py311ml\\lib\\site-packages (from selenium) (2024.7.4)\n",
      "Requirement already satisfied: typing_extensions~=4.9 in c:\\users\\alumno\\.conda\\envs\\py311ml\\lib\\site-packages (from selenium) (4.12.2)\n",
      "Requirement already satisfied: websocket-client~=1.8 in c:\\users\\alumno\\.conda\\envs\\py311ml\\lib\\site-packages (from selenium) (1.8.0)\n",
      "Requirement already satisfied: attrs>=23.2.0 in c:\\users\\alumno\\.conda\\envs\\py311ml\\lib\\site-packages (from trio~=0.17->selenium) (24.2.0)\n",
      "Requirement already satisfied: sortedcontainers in c:\\users\\alumno\\.conda\\envs\\py311ml\\lib\\site-packages (from trio~=0.17->selenium) (2.4.0)\n",
      "Requirement already satisfied: idna in c:\\users\\alumno\\.conda\\envs\\py311ml\\lib\\site-packages (from trio~=0.17->selenium) (3.8)\n",
      "Requirement already satisfied: outcome in c:\\users\\alumno\\.conda\\envs\\py311ml\\lib\\site-packages (from trio~=0.17->selenium) (1.3.0.post0)\n",
      "Requirement already satisfied: sniffio>=1.3.0 in c:\\users\\alumno\\.conda\\envs\\py311ml\\lib\\site-packages (from trio~=0.17->selenium) (1.3.1)\n",
      "Requirement already satisfied: cffi>=1.14 in c:\\users\\alumno\\.conda\\envs\\py311ml\\lib\\site-packages (from trio~=0.17->selenium) (1.17.0)\n",
      "Requirement already satisfied: wsproto>=0.14 in c:\\users\\alumno\\.conda\\envs\\py311ml\\lib\\site-packages (from trio-websocket~=0.9->selenium) (1.2.0)\n",
      "Requirement already satisfied: pysocks!=1.5.7,<2.0,>=1.5.6 in c:\\users\\alumno\\.conda\\envs\\py311ml\\lib\\site-packages (from urllib3[socks]<3,>=1.26->selenium) (1.7.1)\n",
      "Requirement already satisfied: pycparser in c:\\users\\alumno\\.conda\\envs\\py311ml\\lib\\site-packages (from cffi>=1.14->trio~=0.17->selenium) (2.22)\n",
      "Requirement already satisfied: h11<1,>=0.9.0 in c:\\users\\alumno\\.conda\\envs\\py311ml\\lib\\site-packages (from wsproto>=0.14->trio-websocket~=0.9->selenium) (0.14.0)\n",
      "Requirement already satisfied: selenium in c:\\users\\alumno\\.conda\\envs\\py311ml\\lib\\site-packages (4.28.1)\n",
      "Requirement already satisfied: beautifulsoup4 in c:\\users\\alumno\\.conda\\envs\\py311ml\\lib\\site-packages (4.12.3)\n",
      "Requirement already satisfied: urllib3<3,>=1.26 in c:\\users\\alumno\\.conda\\envs\\py311ml\\lib\\site-packages (from urllib3[socks]<3,>=1.26->selenium) (2.2.2)\n",
      "Requirement already satisfied: trio~=0.17 in c:\\users\\alumno\\.conda\\envs\\py311ml\\lib\\site-packages (from selenium) (0.28.0)\n",
      "Requirement already satisfied: trio-websocket~=0.9 in c:\\users\\alumno\\.conda\\envs\\py311ml\\lib\\site-packages (from selenium) (0.11.1)\n",
      "Requirement already satisfied: certifi>=2021.10.8 in c:\\users\\alumno\\.conda\\envs\\py311ml\\lib\\site-packages (from selenium) (2024.7.4)\n",
      "Requirement already satisfied: typing_extensions~=4.9 in c:\\users\\alumno\\.conda\\envs\\py311ml\\lib\\site-packages (from selenium) (4.12.2)\n",
      "Requirement already satisfied: websocket-client~=1.8 in c:\\users\\alumno\\.conda\\envs\\py311ml\\lib\\site-packages (from selenium) (1.8.0)\n",
      "Requirement already satisfied: soupsieve>1.2 in c:\\users\\alumno\\.conda\\envs\\py311ml\\lib\\site-packages (from beautifulsoup4) (2.5)\n",
      "Requirement already satisfied: attrs>=23.2.0 in c:\\users\\alumno\\.conda\\envs\\py311ml\\lib\\site-packages (from trio~=0.17->selenium) (24.2.0)\n",
      "Requirement already satisfied: sortedcontainers in c:\\users\\alumno\\.conda\\envs\\py311ml\\lib\\site-packages (from trio~=0.17->selenium) (2.4.0)\n",
      "Requirement already satisfied: idna in c:\\users\\alumno\\.conda\\envs\\py311ml\\lib\\site-packages (from trio~=0.17->selenium) (3.8)\n",
      "Requirement already satisfied: outcome in c:\\users\\alumno\\.conda\\envs\\py311ml\\lib\\site-packages (from trio~=0.17->selenium) (1.3.0.post0)\n",
      "Requirement already satisfied: sniffio>=1.3.0 in c:\\users\\alumno\\.conda\\envs\\py311ml\\lib\\site-packages (from trio~=0.17->selenium) (1.3.1)\n",
      "Requirement already satisfied: cffi>=1.14 in c:\\users\\alumno\\.conda\\envs\\py311ml\\lib\\site-packages (from trio~=0.17->selenium) (1.17.0)\n",
      "Requirement already satisfied: wsproto>=0.14 in c:\\users\\alumno\\.conda\\envs\\py311ml\\lib\\site-packages (from trio-websocket~=0.9->selenium) (1.2.0)\n",
      "Requirement already satisfied: pysocks!=1.5.7,<2.0,>=1.5.6 in c:\\users\\alumno\\.conda\\envs\\py311ml\\lib\\site-packages (from urllib3[socks]<3,>=1.26->selenium) (1.7.1)\n",
      "Requirement already satisfied: pycparser in c:\\users\\alumno\\.conda\\envs\\py311ml\\lib\\site-packages (from cffi>=1.14->trio~=0.17->selenium) (2.22)\n",
      "Requirement already satisfied: h11<1,>=0.9.0 in c:\\users\\alumno\\.conda\\envs\\py311ml\\lib\\site-packages (from wsproto>=0.14->trio-websocket~=0.9->selenium) (0.14.0)\n"
     ]
    }
   ],
   "source": [
    "!pip install selenium\n",
    "!pip install selenium beautifulsoup4"
   ]
  },
  {
   "cell_type": "code",
   "execution_count": 2,
   "id": "6d932b15",
   "metadata": {},
   "outputs": [],
   "source": [
    "from selenium import webdriver\n",
    "from selenium.webdriver.common.by import By\n",
    "from selenium.webdriver.common.keys import Keys\n",
    "from selenium.webdriver.support.ui import WebDriverWait\n",
    "from selenium.webdriver.support import expected_conditions as EC\n",
    "import pickle\n",
    "import time\n",
    "from bs4 import BeautifulSoup"
   ]
  },
  {
   "cell_type": "markdown",
   "id": "a41e8da3",
   "metadata": {},
   "source": [
    "### 1. Iniciamos sesión y guardamos las cookies para evitar volver a iniciar sesión:"
   ]
  },
  {
   "cell_type": "code",
   "execution_count": 3,
   "id": "16f6737a",
   "metadata": {},
   "outputs": [
    {
     "ename": "KeyboardInterrupt",
     "evalue": "Interrupted by user",
     "output_type": "error",
     "traceback": [
      "\u001b[1;31m---------------------------------------------------------------------------\u001b[0m",
      "\u001b[1;31mKeyboardInterrupt\u001b[0m                         Traceback (most recent call last)",
      "Cell \u001b[1;32mIn[3], line 8\u001b[0m\n\u001b[0;32m      5\u001b[0m driver\u001b[38;5;241m.\u001b[39mget(\u001b[38;5;124m'\u001b[39m\u001b[38;5;124mhttps://www.amazon.es\u001b[39m\u001b[38;5;124m'\u001b[39m)\n\u001b[0;32m      7\u001b[0m \u001b[38;5;66;03m# Espera a que el usuario inicie sesión manualmente\u001b[39;00m\n\u001b[1;32m----> 8\u001b[0m \u001b[38;5;28;43minput\u001b[39;49m\u001b[43m(\u001b[49m\u001b[38;5;124;43m\"\u001b[39;49m\u001b[38;5;124;43mInicia sesión y presiona Enter para continuar...\u001b[39;49m\u001b[38;5;124;43m\"\u001b[39;49m\u001b[43m)\u001b[49m\n\u001b[0;32m     10\u001b[0m \u001b[38;5;66;03m# Guarda las cookies en un archivo\u001b[39;00m\n\u001b[0;32m     11\u001b[0m cookies \u001b[38;5;241m=\u001b[39m driver\u001b[38;5;241m.\u001b[39mget_cookies()  \u001b[38;5;66;03m# Obtiene todas las cookies\u001b[39;00m\n",
      "File \u001b[1;32m~\\.conda\\envs\\py311ml\\Lib\\site-packages\\ipykernel\\kernelbase.py:1282\u001b[0m, in \u001b[0;36mKernel.raw_input\u001b[1;34m(self, prompt)\u001b[0m\n\u001b[0;32m   1280\u001b[0m     msg \u001b[38;5;241m=\u001b[39m \u001b[38;5;124m\"\u001b[39m\u001b[38;5;124mraw_input was called, but this frontend does not support input requests.\u001b[39m\u001b[38;5;124m\"\u001b[39m\n\u001b[0;32m   1281\u001b[0m     \u001b[38;5;28;01mraise\u001b[39;00m StdinNotImplementedError(msg)\n\u001b[1;32m-> 1282\u001b[0m \u001b[38;5;28;01mreturn\u001b[39;00m \u001b[38;5;28;43mself\u001b[39;49m\u001b[38;5;241;43m.\u001b[39;49m\u001b[43m_input_request\u001b[49m\u001b[43m(\u001b[49m\n\u001b[0;32m   1283\u001b[0m \u001b[43m    \u001b[49m\u001b[38;5;28;43mstr\u001b[39;49m\u001b[43m(\u001b[49m\u001b[43mprompt\u001b[49m\u001b[43m)\u001b[49m\u001b[43m,\u001b[49m\n\u001b[0;32m   1284\u001b[0m \u001b[43m    \u001b[49m\u001b[38;5;28;43mself\u001b[39;49m\u001b[38;5;241;43m.\u001b[39;49m\u001b[43m_parent_ident\u001b[49m\u001b[43m[\u001b[49m\u001b[38;5;124;43m\"\u001b[39;49m\u001b[38;5;124;43mshell\u001b[39;49m\u001b[38;5;124;43m\"\u001b[39;49m\u001b[43m]\u001b[49m\u001b[43m,\u001b[49m\n\u001b[0;32m   1285\u001b[0m \u001b[43m    \u001b[49m\u001b[38;5;28;43mself\u001b[39;49m\u001b[38;5;241;43m.\u001b[39;49m\u001b[43mget_parent\u001b[49m\u001b[43m(\u001b[49m\u001b[38;5;124;43m\"\u001b[39;49m\u001b[38;5;124;43mshell\u001b[39;49m\u001b[38;5;124;43m\"\u001b[39;49m\u001b[43m)\u001b[49m\u001b[43m,\u001b[49m\n\u001b[0;32m   1286\u001b[0m \u001b[43m    \u001b[49m\u001b[43mpassword\u001b[49m\u001b[38;5;241;43m=\u001b[39;49m\u001b[38;5;28;43;01mFalse\u001b[39;49;00m\u001b[43m,\u001b[49m\n\u001b[0;32m   1287\u001b[0m \u001b[43m\u001b[49m\u001b[43m)\u001b[49m\n",
      "File \u001b[1;32m~\\.conda\\envs\\py311ml\\Lib\\site-packages\\ipykernel\\kernelbase.py:1325\u001b[0m, in \u001b[0;36mKernel._input_request\u001b[1;34m(self, prompt, ident, parent, password)\u001b[0m\n\u001b[0;32m   1322\u001b[0m \u001b[38;5;28;01mexcept\u001b[39;00m \u001b[38;5;167;01mKeyboardInterrupt\u001b[39;00m:\n\u001b[0;32m   1323\u001b[0m     \u001b[38;5;66;03m# re-raise KeyboardInterrupt, to truncate traceback\u001b[39;00m\n\u001b[0;32m   1324\u001b[0m     msg \u001b[38;5;241m=\u001b[39m \u001b[38;5;124m\"\u001b[39m\u001b[38;5;124mInterrupted by user\u001b[39m\u001b[38;5;124m\"\u001b[39m\n\u001b[1;32m-> 1325\u001b[0m     \u001b[38;5;28;01mraise\u001b[39;00m \u001b[38;5;167;01mKeyboardInterrupt\u001b[39;00m(msg) \u001b[38;5;28;01mfrom\u001b[39;00m \u001b[38;5;28;01mNone\u001b[39;00m\n\u001b[0;32m   1326\u001b[0m \u001b[38;5;28;01mexcept\u001b[39;00m \u001b[38;5;167;01mException\u001b[39;00m:\n\u001b[0;32m   1327\u001b[0m     \u001b[38;5;28mself\u001b[39m\u001b[38;5;241m.\u001b[39mlog\u001b[38;5;241m.\u001b[39mwarning(\u001b[38;5;124m\"\u001b[39m\u001b[38;5;124mInvalid Message:\u001b[39m\u001b[38;5;124m\"\u001b[39m, exc_info\u001b[38;5;241m=\u001b[39m\u001b[38;5;28;01mTrue\u001b[39;00m)\n",
      "\u001b[1;31mKeyboardInterrupt\u001b[0m: Interrupted by user"
     ]
    }
   ],
   "source": [
    "# Configura tu navegador (en este caso, Chrome)\n",
    "driver = webdriver.Chrome()\n",
    "\n",
    "# Abre la página de Amazon\n",
    "driver.get('https://www.amazon.es')\n",
    "\n",
    "# Espera a que el usuario inicie sesión manualmente\n",
    "input(\"Inicia sesión y presiona Enter para continuar...\")\n",
    "\n",
    "# Guarda las cookies en un archivo\n",
    "cookies = driver.get_cookies()  # Obtiene todas las cookies\n",
    "with open('amazon_cookies.pkl', 'wb') as f:\n",
    "    pickle.dump(cookies, f)\n",
    "\n",
    "print(\"Cookies guardadas correctamente.\")"
   ]
  },
  {
   "cell_type": "markdown",
   "id": "cd351e20",
   "metadata": {},
   "source": [
    "### 2. Creamos funciones para ayudarnos en la extracción de las reseñas:"
   ]
  },
  {
   "cell_type": "markdown",
   "id": "c35d08c2",
   "metadata": {},
   "source": [
    "Obtiene las páginas HTML de un las reseñas de un producto, con un número de estrellas concreto."
   ]
  },
  {
   "cell_type": "code",
   "execution_count": null,
   "id": "1aa0f232",
   "metadata": {},
   "outputs": [],
   "source": [
    "def get_reviews_html(driver, product_id, star_filter):\n",
    "    first_page_url = f\"https://www.amazon.es/product-reviews/{product_id}/ref=acr_dp_hist_5?ie=UTF8&filterByStar={star_filter}&reviewerType=all_reviews#reviews-filter-bar\"\n",
    "\n",
    "    html_datas = []\n",
    "    # Pedimos la página\n",
    "    driver.get(first_page_url)\n",
    "    time.sleep(5)  # Espera a que cargue la página\n",
    "\n",
    "    for i in range (0, 11):\n",
    "        # Guarda el HTML de la página actual\n",
    "        html_datas.append(driver.page_source)\n",
    "\n",
    "        try:\n",
    "            # Esperar a que el botón \"Siguiente\" esté presente y sea clickeable\n",
    "            next_button = WebDriverWait(driver, 5).until(\n",
    "                EC.element_to_be_clickable((By.CLASS_NAME, \"a-last\"))\n",
    "            )\n",
    "            \n",
    "            # Si el botón \"Siguiente\" está deshabilitado, hemos llegado al final\n",
    "            if \"a-disabled\" in next_button.get_attribute(\"class\"):\n",
    "                print(\"No hay más páginas de reseñas.\")\n",
    "                break\n",
    "\n",
    "            # Hacer clic en \"Siguiente\"\n",
    "            next_button.click()\n",
    "            time.sleep(5)  # Esperar a que cargue la nueva página\n",
    "        except:\n",
    "            print(\"No se encontró el botón 'Siguiente' o se llegó al final de las páginas.\")\n",
    "            break  # Salimos del bucle si no se encuentra el botón\n",
    "\n",
    "    return html_datas"
   ]
  },
  {
   "cell_type": "markdown",
   "id": "5f575f1e",
   "metadata": {},
   "source": [
    "Dada una página HTML, devuelve las reseñas en formato BeautifulSoup."
   ]
  },
  {
   "cell_type": "code",
   "execution_count": null,
   "id": "c3946264",
   "metadata": {},
   "outputs": [],
   "source": [
    "def get_reviews_from_html(page_html: str) -> BeautifulSoup:\n",
    "    soup = BeautifulSoup(page_html, \"lxml\")\n",
    "    reviews = soup.find_all(\"div\", {\"class\": \"a-section celwidget\"})\n",
    "    return reviews"
   ]
  },
  {
   "cell_type": "markdown",
   "id": "92cceff8",
   "metadata": {},
   "source": [
    "Dada una reseña en formato BeautifulSoup, devuelve la reseña en formato texto."
   ]
  },
  {
   "cell_type": "code",
   "execution_count": null,
   "id": "eb42c95b",
   "metadata": {},
   "outputs": [],
   "source": [
    "from langdetect import detect\n",
    "\n",
    "def get_review_text(soup_object: BeautifulSoup) -> str:\n",
    "    # Extraemos el texto de la reseña\n",
    "    review_text = soup_object.find(\n",
    "        \"span\", {\"class\": \"a-size-base review-text review-text-content\"}\n",
    "    ).get_text()\n",
    "    \n",
    "    # Detectamos el idioma de la reseña\n",
    "    try:\n",
    "        lang = detect(review_text)\n",
    "    except:\n",
    "        lang = 'unknown'  # En caso de que no se pueda detectar el idioma\n",
    "    \n",
    "    # Filtramos solo las reseñas en español\n",
    "    if lang == 'es':\n",
    "        return review_text.strip()\n",
    "    else:\n",
    "        return None  # Si no está en español, devolvemos None (o podemos omitirla)\n",
    "\n"
   ]
  },
  {
   "cell_type": "markdown",
   "id": "21304064",
   "metadata": {},
   "source": [
    "### 3. Obtenemos los ID-s de los productos que nos interesan sus reseñas:"
   ]
  },
  {
   "cell_type": "code",
   "execution_count": null,
   "id": "be4fd209",
   "metadata": {},
   "outputs": [],
   "source": [
    "ids = [\n",
    "    \"B0D87LPWWF\"\n",
    "]\n"
   ]
  },
  {
   "cell_type": "markdown",
   "id": "4b31dfc8",
   "metadata": {},
   "source": [
    "### 4. Extraemos las reseñas:"
   ]
  },
  {
   "cell_type": "code",
   "execution_count": null,
   "id": "00f97d34-e78c-46c6-9093-0a49c5a4c4db",
   "metadata": {},
   "outputs": [],
   "source": [
    "!pip install lxml"
   ]
  },
  {
   "cell_type": "code",
   "execution_count": null,
   "id": "b28ea088",
   "metadata": {},
   "outputs": [],
   "source": [
    "from selenium import webdriver\n",
    "from selenium.webdriver.common.by import By\n",
    "from selenium.webdriver.common.keys import Keys\n",
    "from selenium.webdriver.support.ui import WebDriverWait\n",
    "from selenium.webdriver.support import expected_conditions as EC\n",
    "import pickle\n",
    "import time\n",
    "\n",
    "# Configura el navegador\n",
    "driver = webdriver.Chrome()\n",
    "\n",
    "# Abre Amazon\n",
    "driver.get('https://www.amazon.es')\n",
    "\n",
    "# Cargar cookies si existen\n",
    "try:\n",
    "    with open('amazon_cookies.pkl', 'rb') as f:\n",
    "        cookies = pickle.load(f)\n",
    "        for cookie in cookies:\n",
    "            driver.add_cookie(cookie)\n",
    "\n",
    "    driver.refresh()\n",
    "    print(\"Cookies cargadas correctamente.\")\n",
    "except FileNotFoundError:\n",
    "    print(\"No se encontraron cookies guardadas. Inicia sesión manualmente.\")\n",
    "\n",
    "stars_mapping = {\n",
    "    'one_star': 1,\n",
    "    'two_star': 2,\n",
    "    'three_star': 3,\n",
    "    'four_star': 4,\n",
    "    'five_star': 5,\n",
    "    }\n",
    "\n",
    "reviews = {1: [],\n",
    "           2: [],\n",
    "           3: [],\n",
    "           4: [],\n",
    "           5: []}\n",
    "\n",
    "star_filters = ['one_star', 'two_star', 'three_star', 'four_star', 'five_star']\n",
    "product_id = \"B0D87LPWWF\"\n",
    "\n",
    "print(f\"Extrayendo reseñas del producto.\")\n",
    "for star_filter in star_filters:\n",
    "    print(f'Extrayendo reseñas del producto de {star_filter} estrellas...')\n",
    "    # Obtenemos las páginas HTML de interes\n",
    "    reviews_html = get_reviews_html(driver, product_id, star_filter)\n",
    "    \n",
    "    for html in reviews_html:\n",
    "        soup_reviews = get_reviews_from_html(html)\n",
    "        \n",
    "        for soup_review in soup_reviews:\n",
    "            review_text = get_review_text(soup_review)\n",
    "            if review_text:  # Solo añade si no es None (es decir, si la reseña está en español)\n",
    "                reviews[stars_mapping[star_filter]].append(review_text)\n",
    "        \n",
    "    \n",
    "# Cierra el navegador\n",
    "driver.quit()\n"
   ]
  },
  {
   "cell_type": "code",
   "execution_count": null,
   "id": "52f50215",
   "metadata": {},
   "outputs": [],
   "source": [
    "print(len(reviews[2]))\n",
    "# Contamos el número total de elementos en las listas dentro del diccionario\n",
    "num_elementos_totales = sum(len(v) for v in reviews.values())\n",
    "num_elementos_totales\n"
   ]
  },
  {
   "cell_type": "markdown",
   "id": "5e968ccd",
   "metadata": {},
   "source": [
    "### 5. Convertimos las reseñas en un DataFrame:"
   ]
  },
  {
   "cell_type": "code",
   "execution_count": null,
   "id": "d88a4411",
   "metadata": {},
   "outputs": [],
   "source": [
    "import pandas as pd\n",
    "\n",
    "# Inicializamos listas vacías para reseñas y estrellas\n",
    "review_list = []\n",
    "stars_list = []\n",
    "\n",
    "# Recorremos el diccionario y agregamos las reseñas y estrellas a las listas\n",
    "for stars, review_texts in reviews.items():\n",
    "    for review in review_texts:\n",
    "        review_list.append(review)\n",
    "        stars_list.append(stars)\n",
    "\n",
    "# Creamos el DataFrame\n",
    "reviews_df = pd.DataFrame({\n",
    "    'review': review_list,\n",
    "    'stars': stars_list\n",
    "})\n",
    "\n",
    "# Mostrar el DataFrame\n",
    "print(reviews_df)\n"
   ]
  },
  {
   "cell_type": "markdown",
   "id": "85900c50",
   "metadata": {},
   "source": [
    "### 6. Guardamos el DataFrame en un archivo .csv:"
   ]
  },
  {
   "cell_type": "code",
   "execution_count": null,
   "id": "951e7e38",
   "metadata": {},
   "outputs": [],
   "source": [
    "# Guardar el DataFrame en un archivo CSV\n",
    "reviews_df.to_csv('reviews_prod_20_29.csv', index=False)"
   ]
  },
  {
   "cell_type": "markdown",
   "id": "ad78f10e",
   "metadata": {},
   "source": [
    "### 7. Fusionamos los 3 datasets generados:"
   ]
  },
  {
   "cell_type": "code",
   "execution_count": null,
   "id": "110d1eba",
   "metadata": {},
   "outputs": [],
   "source": [
    "# Rutas de los datasets\n",
    "path_1 = \"data/reviews_prod_0_9.csv\"\n",
    "path_2 = \"data/reviews_prod_10_19.csv\"\n",
    "path_3 = \"data/reviews_prod_20_29.csv\"\n",
    "\n",
    "# Cargamos los datasets\n",
    "data_1 = pd.read_csv(path_1)\n",
    "data_2 = pd.read_csv(path_2)\n",
    "data_3 = pd.read_csv(path_3)\n",
    "\n",
    "# Fusionamos los tres DataFrames\n",
    "data_combined = pd.concat([data_1, data_2, data_3], ignore_index=True)\n",
    "\n",
    "print(data_combined.head())\n",
    "# Imprimir la longitud (número de filas)\n",
    "print(\"Número de filas:\", len(data_combined))"
   ]
  },
  {
   "cell_type": "code",
   "execution_count": null,
   "id": "9c50113f",
   "metadata": {},
   "outputs": [],
   "source": [
    "# Guardamos el dataset combinado en un nuevo CSV\n",
    "data_combined.to_csv(\"data/reviews.csv\", index=False, sep=';;')"
   ]
  }
 ],
 "metadata": {
  "kernelspec": {
   "display_name": "Python 3 (ipykernel)",
   "language": "python",
   "name": "python3"
  },
  "language_info": {
   "codemirror_mode": {
    "name": "ipython",
    "version": 3
   },
   "file_extension": ".py",
   "mimetype": "text/x-python",
   "name": "python",
   "nbconvert_exporter": "python",
   "pygments_lexer": "ipython3",
   "version": "3.11.8"
  }
 },
 "nbformat": 4,
 "nbformat_minor": 5
}
