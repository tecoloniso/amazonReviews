{
 "cells": [
  {
   "cell_type": "code",
   "execution_count": 1,
   "id": "3131eea3-deb5-4735-a3df-bc9d0a10d40d",
   "metadata": {},
   "outputs": [
    {
     "name": "stdout",
     "output_type": "stream",
     "text": [
      "Collecting selenium\n",
      "  Downloading selenium-4.28.1-py3-none-any.whl.metadata (7.1 kB)\n",
      "Requirement already satisfied: urllib3<3,>=1.26 in c:\\users\\34659\\anaconda3\\lib\\site-packages (from urllib3[socks]<3,>=1.26->selenium) (2.2.2)\n",
      "Collecting trio~=0.17 (from selenium)\n",
      "  Downloading trio-0.29.0-py3-none-any.whl.metadata (8.5 kB)\n",
      "Collecting trio-websocket~=0.9 (from selenium)\n",
      "  Downloading trio_websocket-0.11.1-py3-none-any.whl.metadata (4.7 kB)\n",
      "Requirement already satisfied: certifi>=2021.10.8 in c:\\users\\34659\\anaconda3\\lib\\site-packages (from selenium) (2024.8.30)\n",
      "Requirement already satisfied: typing_extensions~=4.9 in c:\\users\\34659\\anaconda3\\lib\\site-packages (from selenium) (4.11.0)\n",
      "Requirement already satisfied: websocket-client~=1.8 in c:\\users\\34659\\anaconda3\\lib\\site-packages (from selenium) (1.8.0)\n",
      "Collecting attrs>=23.2.0 (from trio~=0.17->selenium)\n",
      "  Downloading attrs-25.1.0-py3-none-any.whl.metadata (10 kB)\n",
      "Requirement already satisfied: sortedcontainers in c:\\users\\34659\\anaconda3\\lib\\site-packages (from trio~=0.17->selenium) (2.4.0)\n",
      "Requirement already satisfied: idna in c:\\users\\34659\\anaconda3\\lib\\site-packages (from trio~=0.17->selenium) (3.7)\n",
      "Collecting outcome (from trio~=0.17->selenium)\n",
      "  Downloading outcome-1.3.0.post0-py2.py3-none-any.whl.metadata (2.6 kB)\n",
      "Requirement already satisfied: sniffio>=1.3.0 in c:\\users\\34659\\anaconda3\\lib\\site-packages (from trio~=0.17->selenium) (1.3.0)\n",
      "Requirement already satisfied: cffi>=1.14 in c:\\users\\34659\\anaconda3\\lib\\site-packages (from trio~=0.17->selenium) (1.16.0)\n",
      "Collecting wsproto>=0.14 (from trio-websocket~=0.9->selenium)\n",
      "  Downloading wsproto-1.2.0-py3-none-any.whl.metadata (5.6 kB)\n",
      "Requirement already satisfied: pysocks!=1.5.7,<2.0,>=1.5.6 in c:\\users\\34659\\anaconda3\\lib\\site-packages (from urllib3[socks]<3,>=1.26->selenium) (1.7.1)\n",
      "Requirement already satisfied: pycparser in c:\\users\\34659\\anaconda3\\lib\\site-packages (from cffi>=1.14->trio~=0.17->selenium) (2.21)\n",
      "Collecting h11<1,>=0.9.0 (from wsproto>=0.14->trio-websocket~=0.9->selenium)\n",
      "  Downloading h11-0.14.0-py3-none-any.whl.metadata (8.2 kB)\n",
      "Downloading selenium-4.28.1-py3-none-any.whl (9.5 MB)\n",
      "   ---------------------------------------- 0.0/9.5 MB ? eta -:--:--\n",
      "   ---------------------------------------- 0.0/9.5 MB 1.3 MB/s eta 0:00:08\n",
      "   ---------------------------------------- 0.1/9.5 MB 1.1 MB/s eta 0:00:09\n",
      "    --------------------------------------- 0.1/9.5 MB 1.0 MB/s eta 0:00:10\n",
      "   - -------------------------------------- 0.3/9.5 MB 1.6 MB/s eta 0:00:06\n",
      "   - -------------------------------------- 0.5/9.5 MB 2.0 MB/s eta 0:00:05\n",
      "   -- ------------------------------------- 0.6/9.5 MB 2.3 MB/s eta 0:00:04\n",
      "   --- ------------------------------------ 0.8/9.5 MB 2.7 MB/s eta 0:00:04\n",
      "   ---- ----------------------------------- 1.0/9.5 MB 2.9 MB/s eta 0:00:03\n",
      "   ---- ----------------------------------- 1.2/9.5 MB 2.9 MB/s eta 0:00:03\n",
      "   ----- ---------------------------------- 1.4/9.5 MB 3.1 MB/s eta 0:00:03\n",
      "   ------ --------------------------------- 1.6/9.5 MB 3.2 MB/s eta 0:00:03\n",
      "   ------- -------------------------------- 1.8/9.5 MB 3.4 MB/s eta 0:00:03\n",
      "   -------- ------------------------------- 2.0/9.5 MB 3.4 MB/s eta 0:00:03\n",
      "   --------- ------------------------------ 2.2/9.5 MB 3.5 MB/s eta 0:00:03\n",
      "   ---------- ----------------------------- 2.4/9.5 MB 3.5 MB/s eta 0:00:02\n",
      "   ---------- ----------------------------- 2.6/9.5 MB 3.6 MB/s eta 0:00:02\n",
      "   ----------- ---------------------------- 2.8/9.5 MB 3.6 MB/s eta 0:00:02\n",
      "   ------------ --------------------------- 3.0/9.5 MB 3.6 MB/s eta 0:00:02\n",
      "   ------------ --------------------------- 3.1/9.5 MB 3.5 MB/s eta 0:00:02\n",
      "   ------------- -------------------------- 3.2/9.5 MB 3.5 MB/s eta 0:00:02\n",
      "   -------------- ------------------------- 3.3/9.5 MB 3.5 MB/s eta 0:00:02\n",
      "   -------------- ------------------------- 3.5/9.5 MB 3.4 MB/s eta 0:00:02\n",
      "   --------------- ------------------------ 3.6/9.5 MB 3.4 MB/s eta 0:00:02\n",
      "   --------------- ------------------------ 3.8/9.5 MB 3.4 MB/s eta 0:00:02\n",
      "   ---------------- ----------------------- 4.0/9.5 MB 3.4 MB/s eta 0:00:02\n",
      "   ----------------- ---------------------- 4.2/9.5 MB 3.5 MB/s eta 0:00:02\n",
      "   ------------------ --------------------- 4.4/9.5 MB 3.5 MB/s eta 0:00:02\n",
      "   ------------------- -------------------- 4.6/9.5 MB 3.5 MB/s eta 0:00:02\n",
      "   ------------------- -------------------- 4.7/9.5 MB 3.5 MB/s eta 0:00:02\n",
      "   -------------------- ------------------- 4.8/9.5 MB 3.5 MB/s eta 0:00:02\n",
      "   -------------------- ------------------- 4.8/9.5 MB 3.5 MB/s eta 0:00:02\n",
      "   -------------------- ------------------- 4.8/9.5 MB 3.5 MB/s eta 0:00:02\n",
      "   --------------------- ------------------ 5.0/9.5 MB 3.3 MB/s eta 0:00:02\n",
      "   ---------------------- ----------------- 5.4/9.5 MB 3.4 MB/s eta 0:00:02\n",
      "   ----------------------- ---------------- 5.6/9.5 MB 3.4 MB/s eta 0:00:02\n",
      "   ----------------------- ---------------- 5.7/9.5 MB 3.4 MB/s eta 0:00:02\n",
      "   ------------------------ --------------- 5.8/9.5 MB 3.4 MB/s eta 0:00:02\n",
      "   ------------------------ --------------- 5.8/9.5 MB 3.4 MB/s eta 0:00:02\n",
      "   ------------------------- -------------- 6.0/9.5 MB 3.3 MB/s eta 0:00:02\n",
      "   ------------------------- -------------- 6.1/9.5 MB 3.3 MB/s eta 0:00:02\n",
      "   ------------------------- -------------- 6.2/9.5 MB 3.2 MB/s eta 0:00:02\n",
      "   ------------------------- -------------- 6.2/9.5 MB 3.2 MB/s eta 0:00:02\n",
      "   --------------------------- ------------ 6.5/9.5 MB 3.3 MB/s eta 0:00:01\n",
      "   --------------------------- ------------ 6.6/9.5 MB 3.2 MB/s eta 0:00:01\n",
      "   ---------------------------- ----------- 6.7/9.5 MB 3.2 MB/s eta 0:00:01\n",
      "   ---------------------------- ----------- 6.8/9.5 MB 3.2 MB/s eta 0:00:01\n",
      "   ----------------------------- ---------- 6.9/9.5 MB 3.2 MB/s eta 0:00:01\n",
      "   ----------------------------- ---------- 6.9/9.5 MB 3.1 MB/s eta 0:00:01\n",
      "   ----------------------------- ---------- 7.0/9.5 MB 3.1 MB/s eta 0:00:01\n",
      "   ----------------------------- ---------- 7.1/9.5 MB 3.1 MB/s eta 0:00:01\n",
      "   ------------------------------ --------- 7.2/9.5 MB 3.0 MB/s eta 0:00:01\n",
      "   ------------------------------ --------- 7.3/9.5 MB 3.0 MB/s eta 0:00:01\n",
      "   ------------------------------ --------- 7.3/9.5 MB 3.0 MB/s eta 0:00:01\n",
      "   ------------------------------ --------- 7.3/9.5 MB 2.9 MB/s eta 0:00:01\n",
      "   ------------------------------- -------- 7.4/9.5 MB 2.9 MB/s eta 0:00:01\n",
      "   ------------------------------- -------- 7.5/9.5 MB 2.9 MB/s eta 0:00:01\n",
      "   ------------------------------- -------- 7.5/9.5 MB 2.9 MB/s eta 0:00:01\n",
      "   -------------------------------- ------- 7.6/9.5 MB 2.9 MB/s eta 0:00:01\n",
      "   -------------------------------- ------- 7.7/9.5 MB 2.8 MB/s eta 0:00:01\n",
      "   -------------------------------- ------- 7.8/9.5 MB 2.8 MB/s eta 0:00:01\n",
      "   -------------------------------- ------- 7.9/9.5 MB 2.8 MB/s eta 0:00:01\n",
      "   --------------------------------- ------ 8.0/9.5 MB 2.8 MB/s eta 0:00:01\n",
      "   --------------------------------- ------ 8.0/9.5 MB 2.8 MB/s eta 0:00:01\n",
      "   ---------------------------------- ----- 8.1/9.5 MB 2.8 MB/s eta 0:00:01\n",
      "   ---------------------------------- ----- 8.1/9.5 MB 2.8 MB/s eta 0:00:01\n",
      "   ---------------------------------- ----- 8.2/9.5 MB 2.7 MB/s eta 0:00:01\n",
      "   ---------------------------------- ----- 8.3/9.5 MB 2.7 MB/s eta 0:00:01\n",
      "   ----------------------------------- ---- 8.4/9.5 MB 2.7 MB/s eta 0:00:01\n",
      "   ----------------------------------- ---- 8.5/9.5 MB 2.7 MB/s eta 0:00:01\n",
      "   ----------------------------------- ---- 8.6/9.5 MB 2.7 MB/s eta 0:00:01\n",
      "   ------------------------------------ --- 8.6/9.5 MB 2.6 MB/s eta 0:00:01\n",
      "   ------------------------------------ --- 8.7/9.5 MB 2.6 MB/s eta 0:00:01\n",
      "   ------------------------------------- -- 8.8/9.5 MB 2.6 MB/s eta 0:00:01\n",
      "   ------------------------------------- -- 8.9/9.5 MB 2.6 MB/s eta 0:00:01\n",
      "   ------------------------------------- -- 9.0/9.5 MB 2.6 MB/s eta 0:00:01\n",
      "   ------------------------------------- -- 9.1/9.5 MB 2.6 MB/s eta 0:00:01\n",
      "   -------------------------------------- - 9.1/9.5 MB 2.6 MB/s eta 0:00:01\n",
      "   -------------------------------------- - 9.2/9.5 MB 2.6 MB/s eta 0:00:01\n",
      "   -------------------------------------- - 9.2/9.5 MB 2.6 MB/s eta 0:00:01\n",
      "   ---------------------------------------  9.3/9.5 MB 2.5 MB/s eta 0:00:01\n",
      "   ---------------------------------------  9.4/9.5 MB 2.5 MB/s eta 0:00:01\n",
      "   ---------------------------------------  9.5/9.5 MB 2.5 MB/s eta 0:00:01\n",
      "   ---------------------------------------- 9.5/9.5 MB 2.5 MB/s eta 0:00:00\n",
      "Downloading trio-0.29.0-py3-none-any.whl (492 kB)\n",
      "   ---------------------------------------- 0.0/492.9 kB ? eta -:--:--\n",
      "   -------- ------------------------------- 102.4/492.9 kB 2.9 MB/s eta 0:00:01\n",
      "   ---------------- ----------------------- 204.8/492.9 kB 2.5 MB/s eta 0:00:01\n",
      "   ------------------- -------------------- 235.5/492.9 kB 2.0 MB/s eta 0:00:01\n",
      "   ---------------------------- ----------- 348.2/492.9 kB 2.0 MB/s eta 0:00:01\n",
      "   -------------------------------- ------- 399.4/492.9 kB 1.8 MB/s eta 0:00:01\n",
      "   ---------------------------------------  491.5/492.9 kB 1.9 MB/s eta 0:00:01\n",
      "   ---------------------------------------- 492.9/492.9 kB 1.7 MB/s eta 0:00:00\n",
      "Downloading trio_websocket-0.11.1-py3-none-any.whl (17 kB)\n",
      "Downloading attrs-25.1.0-py3-none-any.whl (63 kB)\n",
      "   ---------------------------------------- 0.0/63.2 kB ? eta -:--:--\n",
      "   -------------------------------------- - 61.4/63.2 kB 3.4 MB/s eta 0:00:01\n",
      "   ---------------------------------------- 63.2/63.2 kB 1.2 MB/s eta 0:00:00\n",
      "Downloading wsproto-1.2.0-py3-none-any.whl (24 kB)\n",
      "Downloading outcome-1.3.0.post0-py2.py3-none-any.whl (10 kB)\n",
      "Downloading h11-0.14.0-py3-none-any.whl (58 kB)\n",
      "   ---------------------------------------- 0.0/58.3 kB ? eta -:--:--\n",
      "   ---------------------------------------- 58.3/58.3 kB 1.5 MB/s eta 0:00:00\n",
      "Installing collected packages: h11, attrs, wsproto, outcome, trio, trio-websocket, selenium\n",
      "  Attempting uninstall: attrs\n",
      "    Found existing installation: attrs 23.1.0\n",
      "    Uninstalling attrs-23.1.0:\n",
      "      Successfully uninstalled attrs-23.1.0\n",
      "Successfully installed attrs-25.1.0 h11-0.14.0 outcome-1.3.0.post0 selenium-4.28.1 trio-0.29.0 trio-websocket-0.11.1 wsproto-1.2.0\n",
      "Requirement already satisfied: selenium in c:\\users\\34659\\anaconda3\\lib\\site-packages (4.28.1)\n",
      "Requirement already satisfied: beautifulsoup4 in c:\\users\\34659\\anaconda3\\lib\\site-packages (4.12.3)\n",
      "Requirement already satisfied: urllib3<3,>=1.26 in c:\\users\\34659\\anaconda3\\lib\\site-packages (from urllib3[socks]<3,>=1.26->selenium) (2.2.2)\n",
      "Requirement already satisfied: trio~=0.17 in c:\\users\\34659\\anaconda3\\lib\\site-packages (from selenium) (0.29.0)\n",
      "Requirement already satisfied: trio-websocket~=0.9 in c:\\users\\34659\\anaconda3\\lib\\site-packages (from selenium) (0.11.1)\n",
      "Requirement already satisfied: certifi>=2021.10.8 in c:\\users\\34659\\anaconda3\\lib\\site-packages (from selenium) (2024.8.30)\n",
      "Requirement already satisfied: typing_extensions~=4.9 in c:\\users\\34659\\anaconda3\\lib\\site-packages (from selenium) (4.11.0)\n",
      "Requirement already satisfied: websocket-client~=1.8 in c:\\users\\34659\\anaconda3\\lib\\site-packages (from selenium) (1.8.0)\n",
      "Requirement already satisfied: soupsieve>1.2 in c:\\users\\34659\\anaconda3\\lib\\site-packages (from beautifulsoup4) (2.5)\n",
      "Requirement already satisfied: attrs>=23.2.0 in c:\\users\\34659\\anaconda3\\lib\\site-packages (from trio~=0.17->selenium) (25.1.0)\n",
      "Requirement already satisfied: sortedcontainers in c:\\users\\34659\\anaconda3\\lib\\site-packages (from trio~=0.17->selenium) (2.4.0)\n",
      "Requirement already satisfied: idna in c:\\users\\34659\\anaconda3\\lib\\site-packages (from trio~=0.17->selenium) (3.7)\n",
      "Requirement already satisfied: outcome in c:\\users\\34659\\anaconda3\\lib\\site-packages (from trio~=0.17->selenium) (1.3.0.post0)\n",
      "Requirement already satisfied: sniffio>=1.3.0 in c:\\users\\34659\\anaconda3\\lib\\site-packages (from trio~=0.17->selenium) (1.3.0)\n",
      "Requirement already satisfied: cffi>=1.14 in c:\\users\\34659\\anaconda3\\lib\\site-packages (from trio~=0.17->selenium) (1.16.0)\n",
      "Requirement already satisfied: wsproto>=0.14 in c:\\users\\34659\\anaconda3\\lib\\site-packages (from trio-websocket~=0.9->selenium) (1.2.0)\n",
      "Requirement already satisfied: pysocks!=1.5.7,<2.0,>=1.5.6 in c:\\users\\34659\\anaconda3\\lib\\site-packages (from urllib3[socks]<3,>=1.26->selenium) (1.7.1)\n",
      "Requirement already satisfied: pycparser in c:\\users\\34659\\anaconda3\\lib\\site-packages (from cffi>=1.14->trio~=0.17->selenium) (2.21)\n",
      "Requirement already satisfied: h11<1,>=0.9.0 in c:\\users\\34659\\anaconda3\\lib\\site-packages (from wsproto>=0.14->trio-websocket~=0.9->selenium) (0.14.0)\n"
     ]
    }
   ],
   "source": [
    "!pip install selenium\n",
    "!pip install selenium beautifulsoup4"
   ]
  },
  {
   "cell_type": "code",
   "execution_count": 28,
   "id": "6d932b15",
   "metadata": {},
   "outputs": [],
   "source": [
    "from selenium import webdriver\n",
    "from selenium.webdriver.common.by import By\n",
    "from selenium.webdriver.common.keys import Keys\n",
    "from selenium.webdriver.support.ui import WebDriverWait\n",
    "from selenium.webdriver.support import expected_conditions as EC\n",
    "import pickle\n",
    "import time\n",
    "from bs4 import BeautifulSoup"
   ]
  },
  {
   "cell_type": "markdown",
   "id": "a41e8da3",
   "metadata": {},
   "source": [
    "### 1. Iniciamos sesión y guardamos las cookies para evitar volver a iniciar sesión:"
   ]
  },
  {
   "cell_type": "code",
   "execution_count": 83,
   "id": "16f6737a",
   "metadata": {},
   "outputs": [
    {
     "name": "stdin",
     "output_type": "stream",
     "text": [
      "Inicia sesión y presiona Enter para continuar... \n"
     ]
    },
    {
     "name": "stdout",
     "output_type": "stream",
     "text": [
      "Cookies guardadas correctamente.\n"
     ]
    }
   ],
   "source": [
    "# Configura tu navegador (en este caso, Chrome)\n",
    "driver = webdriver.Chrome()\n",
    "\n",
    "# Abre la página de Amazon\n",
    "driver.get('https://www.amazon.es')\n",
    "\n",
    "# Espera a que el usuario inicie sesión manualmente\n",
    "input(\"Inicia sesión y presiona Enter para continuar...\")\n",
    "\n",
    "# Guarda las cookies en un archivo\n",
    "cookies = driver.get_cookies()  # Obtiene todas las cookies\n",
    "with open('amazon_cookies.pkl', 'wb') as f:\n",
    "    pickle.dump(cookies, f)\n",
    "\n",
    "print(\"Cookies guardadas correctamente.\")"
   ]
  },
  {
   "cell_type": "markdown",
   "id": "cd351e20",
   "metadata": {},
   "source": [
    "### 2. Creamos funciones para ayudarnos en la extracción de las reseñas:"
   ]
  },
  {
   "cell_type": "markdown",
   "id": "c35d08c2",
   "metadata": {},
   "source": [
    "Obtiene las páginas HTML de un las reseñas de un producto, con un número de estrellas concreto."
   ]
  },
  {
   "cell_type": "code",
   "execution_count": 4,
   "id": "1aa0f232",
   "metadata": {},
   "outputs": [],
   "source": [
    "def get_reviews_html(driver, product_id, star_filter):\n",
    "    first_page_url = f\"https://www.amazon.es/product-reviews/{product_id}/ref=acr_dp_hist_5?ie=UTF8&filterByStar={star_filter}&reviewerType=all_reviews#reviews-filter-bar\"\n",
    "\n",
    "    html_datas = []\n",
    "    # Pedimos la página\n",
    "    driver.get(first_page_url)\n",
    "    time.sleep(5)  # Espera a que cargue la página\n",
    "\n",
    "    for i in range (0, 11):\n",
    "        # Guarda el HTML de la página actual\n",
    "        html_datas.append(driver.page_source)\n",
    "\n",
    "        try:\n",
    "            # Esperar a que el botón \"Siguiente\" esté presente y sea clickeable\n",
    "            next_button = WebDriverWait(driver, 5).until(\n",
    "                EC.element_to_be_clickable((By.CLASS_NAME, \"a-last\"))\n",
    "            )\n",
    "            \n",
    "            # Si el botón \"Siguiente\" está deshabilitado, hemos llegado al final\n",
    "            if \"a-disabled\" in next_button.get_attribute(\"class\"):\n",
    "                print(\"No hay más páginas de reseñas.\")\n",
    "                break\n",
    "\n",
    "            # Hacer clic en \"Siguiente\"\n",
    "            next_button.click()\n",
    "            time.sleep(5)  # Esperar a que cargue la nueva página\n",
    "        except:\n",
    "            print(\"No se encontró el botón 'Siguiente' o se llegó al final de las páginas.\")\n",
    "            break  # Salimos del bucle si no se encuentra el botón\n",
    "\n",
    "    return html_datas"
   ]
  },
  {
   "cell_type": "markdown",
   "id": "5f575f1e",
   "metadata": {},
   "source": [
    "Dada una página HTML, devuelve las reseñas en formato BeautifulSoup."
   ]
  },
  {
   "cell_type": "code",
   "execution_count": 5,
   "id": "c3946264",
   "metadata": {},
   "outputs": [],
   "source": [
    "def get_reviews_from_html(page_html: str) -> BeautifulSoup:\n",
    "    soup = BeautifulSoup(page_html, \"html.parser\")\n",
    "    reviews = soup.find_all(\"div\", {\"class\": \"a-section celwidget\"})\n",
    "    return reviews"
   ]
  },
  {
   "cell_type": "markdown",
   "id": "92cceff8",
   "metadata": {},
   "source": [
    "Dada una reseña en formato BeautifulSoup, devuelve la reseña en formato texto."
   ]
  },
  {
   "cell_type": "code",
   "execution_count": 7,
   "id": "546e2a41-2bbc-4858-a5b1-61dc0e77de7d",
   "metadata": {},
   "outputs": [
    {
     "name": "stdout",
     "output_type": "stream",
     "text": [
      "Collecting langdetect\n",
      "  Downloading langdetect-1.0.9.tar.gz (981 kB)\n",
      "     ---------------------------------------- 0.0/981.5 kB ? eta -:--:--\n",
      "     ---------------------------------------- 0.0/981.5 kB ? eta -:--:--\n",
      "     ---------------------------------------- 10.2/981.5 kB ? eta -:--:--\n",
      "     - ----------------------------------- 30.7/981.5 kB 325.1 kB/s eta 0:00:03\n",
      "     - ----------------------------------- 30.7/981.5 kB 325.1 kB/s eta 0:00:03\n",
      "     -- ---------------------------------- 61.4/981.5 kB 363.1 kB/s eta 0:00:03\n",
      "     ---- ------------------------------- 122.9/981.5 kB 552.2 kB/s eta 0:00:02\n",
      "     --------- -------------------------- 245.8/981.5 kB 942.1 kB/s eta 0:00:01\n",
      "     ---------- --------------------------- 276.5/981.5 kB 1.0 MB/s eta 0:00:01\n",
      "     ------------------- ------------------ 501.8/981.5 kB 1.4 MB/s eta 0:00:01\n",
      "     -------------------------- ----------- 696.3/981.5 kB 1.8 MB/s eta 0:00:01\n",
      "     ------------------------------- ------ 809.0/981.5 kB 1.8 MB/s eta 0:00:01\n",
      "     -------------------------------------  962.6/981.5 kB 2.0 MB/s eta 0:00:01\n",
      "     -------------------------------------- 981.5/981.5 kB 1.8 MB/s eta 0:00:00\n",
      "  Preparing metadata (setup.py): started\n",
      "  Preparing metadata (setup.py): finished with status 'done'\n",
      "Requirement already satisfied: six in c:\\users\\34659\\anaconda3\\lib\\site-packages (from langdetect) (1.16.0)\n",
      "Building wheels for collected packages: langdetect\n",
      "  Building wheel for langdetect (setup.py): started\n",
      "  Building wheel for langdetect (setup.py): finished with status 'done'\n",
      "  Created wheel for langdetect: filename=langdetect-1.0.9-py3-none-any.whl size=993255 sha256=b572a60f6d87472ad90a338011e76a9aaffa0bde302153a0c62bc93737a59b6e\n",
      "  Stored in directory: c:\\users\\34659\\appdata\\local\\pip\\cache\\wheels\\c1\\67\\88\\e844b5b022812e15a52e4eaa38a1e709e99f06f6639d7e3ba7\n",
      "Successfully built langdetect\n",
      "Installing collected packages: langdetect\n",
      "Successfully installed langdetect-1.0.9\n"
     ]
    }
   ],
   "source": [
    "!pip install langdetect"
   ]
  },
  {
   "cell_type": "code",
   "execution_count": 8,
   "id": "eb42c95b",
   "metadata": {},
   "outputs": [],
   "source": [
    "from langdetect import detect\n",
    "\n",
    "def get_review_text(soup_object: BeautifulSoup) -> str:\n",
    "    # Extraemos el texto de la reseña\n",
    "    review_text = soup_object.find(\n",
    "        \"span\", {\"class\": \"a-size-base review-text review-text-content\"}\n",
    "    ).get_text()\n",
    "    \n",
    "    # Detectamos el idioma de la reseña\n",
    "    try:\n",
    "        lang = detect(review_text)\n",
    "    except:\n",
    "        lang = 'unknown'  # En caso de que no se pueda detectar el idioma\n",
    "    \n",
    "    # Filtramos solo las reseñas en español\n",
    "    if lang == 'es':\n",
    "        return review_text.strip()\n",
    "    else:\n",
    "        return None  # Si no está en español, devolvemos None (o podemos omitirla)\n",
    "\n"
   ]
  },
  {
   "cell_type": "markdown",
   "id": "21304064",
   "metadata": {},
   "source": [
    "### 3. Obtenemos los ID-s de los productos que nos interesan sus reseñas:"
   ]
  },
  {
   "cell_type": "code",
   "execution_count": 82,
   "id": "be4fd209",
   "metadata": {},
   "outputs": [],
   "source": [
    "ids = [\n",
    "    \"B09DPR2LZW\"\n",
    "    \"B0B9Y1HTS7\"\n",
    "    \"B0CSFRYL7C\"\n",
    "    \"B00YXO5UKY\"\n",
    "    \"B08BTHXJFN\"\n",
    "    \"B09CDPKPK1\"\n",
    "]\n"
   ]
  },
  {
   "cell_type": "markdown",
   "id": "4b31dfc8",
   "metadata": {},
   "source": [
    "### 4. Extraemos las reseñas:"
   ]
  },
  {
   "cell_type": "code",
   "execution_count": 75,
   "id": "b28ea088",
   "metadata": {},
   "outputs": [
    {
     "name": "stdout",
     "output_type": "stream",
     "text": [
      "Cookies cargadas correctamente.\n",
      "Extrayendo reseñas del producto.\n",
      "Extrayendo reseñas del producto de two_star estrellas...\n",
      "No hay más páginas de reseñas.\n"
     ]
    }
   ],
   "source": [
    "from selenium import webdriver\n",
    "from selenium.webdriver.common.by import By\n",
    "from selenium.webdriver.common.keys import Keys\n",
    "from selenium.webdriver.support.ui import WebDriverWait\n",
    "from selenium.webdriver.support import expected_conditions as EC\n",
    "import pickle\n",
    "import time\n",
    "\n",
    "# Configura el navegador\n",
    "driver = webdriver.Chrome()\n",
    "\n",
    "# Abre Amazon\n",
    "driver.get('https://www.amazon.es')\n",
    "\n",
    "# Cargar cookies si existen\n",
    "try:\n",
    "    with open('amazon_cookies.pkl', 'rb') as f:\n",
    "        cookies = pickle.load(f)\n",
    "        for cookie in cookies:\n",
    "            driver.add_cookie(cookie)\n",
    "\n",
    "    driver.refresh()\n",
    "    print(\"Cookies cargadas correctamente.\")\n",
    "except FileNotFoundError:\n",
    "    print(\"No se encontraron cookies guardadas. Inicia sesión manualmente.\")\n",
    "\n",
    "stars_mapping = {\n",
    "    'one_star': 1,\n",
    "    'two_star': 2,\n",
    "    'three_star': 3,\n",
    "    'four_star': 4,\n",
    "    'five_star': 5,\n",
    "    }\n",
    "\n",
    "reviews = {1: [],\n",
    "           2: [],\n",
    "           3: [],\n",
    "           4: [],\n",
    "           5: []}\n",
    "\n",
    "star_filters = ['one_star','two_star','three_star','four_star','five_star']\n",
    "product_id = \"B0B9Y1HTS7\"\n",
    "\n",
    "print(f\"Extrayendo reseñas del producto.\")\n",
    "for star_filter in star_filters:\n",
    "    print(f'Extrayendo reseñas del producto de {star_filter} estrellas...')\n",
    "    # Obtenemos las páginas HTML de interes\n",
    "    reviews_html = get_reviews_html(driver, product_id, star_filter)\n",
    "    \n",
    "    for html in reviews_html:\n",
    "        soup_reviews = get_reviews_from_html(html)\n",
    "        \n",
    "        for soup_review in soup_reviews:\n",
    "            review_text = get_review_text(soup_review)\n",
    "            if review_text:  # Solo añade si no es None (es decir, si la reseña está en español)\n",
    "                reviews[stars_mapping[star_filter]].append(review_text)\n",
    "        \n",
    "    \n",
    "# Cierra el navegador\n",
    "driver.quit()\n"
   ]
  },
  {
   "cell_type": "code",
   "execution_count": 77,
   "id": "52f50215",
   "metadata": {},
   "outputs": [
    {
     "data": {
      "text/plain": [
       "27"
      ]
     },
     "execution_count": 77,
     "metadata": {},
     "output_type": "execute_result"
    }
   ],
   "source": [
    "# Contamos el número total de elementos en las listas dentro del diccionario\n",
    "num_elementos_totales = sum(len(v) for v in reviews.values())\n",
    "num_elementos_totales\n"
   ]
  },
  {
   "cell_type": "markdown",
   "id": "5e968ccd",
   "metadata": {},
   "source": [
    "### 5. Convertimos las reseñas en un DataFrame:"
   ]
  },
  {
   "cell_type": "code",
   "execution_count": 78,
   "id": "d88a4411",
   "metadata": {},
   "outputs": [
    {
     "name": "stdout",
     "output_type": "stream",
     "text": [
      "                                               review  stars\n",
      "0                      No puedo decir que es algo wow      2\n",
      "1   Fue para un regalo, el crío muy contento, pero...      2\n",
      "2   Lo usamos en mandos tanto de la PS4 como de Xb...      2\n",
      "3   Funcionan muy bien pero la polipiel que lleva ...      2\n",
      "4   Son muy vistosos, agradable estéticamente. El ...      2\n",
      "5   El producto es correcto por el precio, pero ha...      2\n",
      "6                                   Muy mal microfono      2\n",
      "7   Muy decepcionada, se notan que son de mala cal...      2\n",
      "8   Diadema muy pequeña parece que para niños.Para...      2\n",
      "9   Parecen de plástico de baja calidad, el conect...      2\n",
      "10  No están mal para el precio que tienen, se esc...      2\n",
      "11  Porque no se iluminan los cascos, si tienen lu...      2\n",
      "12  La verdad, compre estos auriculares por las bu...      2\n",
      "13  Los auriculares como tal suenan bien.Que es lo...      2\n",
      "14  Los compré y apenas a la semana ya dejó de esc...      2\n",
      "15  El producto calidad precio pues no está mal cu...      2\n",
      "16  Se anunciaba como compatible con varias plataf...      2\n",
      "17  Un poco decepcionante.  El sonido es bueno per...      2\n",
      "18  Lo compré para jugar ala play 4 y el micrófono...      2\n",
      "19  Al segundo uso ya se estropearon, no se escuch...      2\n",
      "20  Lo que me gusta de los auriculares gamer es un...      2\n",
      "21  Funciona perfectamente , pero no ae enciende n...      2\n",
      "22  No me han gustado, el micro se oye mal, son in...      2\n",
      "23  Están bien , pero después de dos días, el cabl...      2\n",
      "24  Lo que no me gustó, falla en el volumen y son ...      2\n",
      "25    te entienden ... pero el sonido no es el idoneo      2\n",
      "26  Los auriculares suenan bien pero el adaptador ...      2\n"
     ]
    }
   ],
   "source": [
    "import pandas as pd\n",
    "\n",
    "# Inicializamos listas vacías para reseñas y estrellas\n",
    "review_list = []\n",
    "stars_list = []\n",
    "\n",
    "# Recorremos el diccionario y agregamos las reseñas y estrellas a las listas\n",
    "for stars, review_texts in reviews.items():\n",
    "    for review in review_texts:\n",
    "        review_list.append(review)\n",
    "        stars_list.append(stars)\n",
    "\n",
    "# Creamos el DataFrame\n",
    "reviews_df = pd.DataFrame({\n",
    "    'review': review_list,\n",
    "    'stars': stars_list\n",
    "})\n",
    "\n",
    "# Mostrar el DataFrame\n",
    "print(reviews_df)\n"
   ]
  },
  {
   "cell_type": "markdown",
   "id": "85900c50",
   "metadata": {},
   "source": [
    "### 6. Guardamos el DataFrame en un archivo .csv:"
   ]
  },
  {
   "cell_type": "code",
   "execution_count": 79,
   "id": "951e7e38",
   "metadata": {},
   "outputs": [],
   "source": [
    "# Guardar el DataFrame en un archivo CSV\n",
    "reviews_df.to_csv('reviews_cascos_6.csv', index=False, sep = ';')"
   ]
  },
  {
   "cell_type": "markdown",
   "id": "ad78f10e",
   "metadata": {},
   "source": [
    "### 7. Fusionamos los 3 datasets generados:"
   ]
  },
  {
   "cell_type": "code",
   "execution_count": 80,
   "id": "110d1eba",
   "metadata": {},
   "outputs": [
    {
     "name": "stdout",
     "output_type": "stream",
     "text": [
      "                                              review  stars\n",
      "0  Empezaré mi reseña explicando no soy alguien q...      1\n",
      "1  Increíble como ha llegado la caja. Me parece d...      1\n",
      "2  Recién compradosLos enchufas a la switch con e...      1\n",
      "3  Hola, no se encienden las luces hay que hacer ...      1\n",
      "4  Hace 2 años que se los compré a mi hijo y las ...      1\n",
      "Número de filas: 1147\n"
     ]
    }
   ],
   "source": [
    "# Rutas de los datasets\n",
    "path_1 = \"reviews_cascos_1.csv\"\n",
    "path_2 = \"reviews_cascos_2.csv\"\n",
    "path_3 = \"reviews_cascos_3.csv\"\n",
    "path_4 = \"reviews_cascos_4.csv\"\n",
    "path_5 = \"reviews_cascos_5.csv\"\n",
    "path_6 = \"reviews_cascos_6.csv\"\n",
    "\n",
    "# Cargamos los datasets\n",
    "data_1 = pd.read_csv(path_1,sep=';', encoding=\"utf-8\")\n",
    "data_2 = pd.read_csv(path_2,sep=';', encoding=\"utf-8\")\n",
    "data_3 = pd.read_csv(path_3,sep=';', encoding=\"utf-8\")\n",
    "data_4 = pd.read_csv(path_4,sep=';', encoding=\"utf-8\")\n",
    "data_5 = pd.read_csv(path_5,sep=';', encoding=\"utf-8\")\n",
    "data_6 = pd.read_csv(path_6,sep=';', encoding=\"utf-8\")\n",
    "\n",
    "# Fusionamos los tres DataFrames\n",
    "data_combined = pd.concat([data_1, data_2, data_3, data_4, data_5, data_6], ignore_index=True)\n",
    "\n",
    "print(data_combined.head())\n",
    "# Imprimir la longitud (número de filas)\n",
    "print(\"Número de filas:\", len(data_combined))"
   ]
  },
  {
   "cell_type": "code",
   "execution_count": 81,
   "id": "9c50113f",
   "metadata": {},
   "outputs": [],
   "source": [
    "# Guardamos el dataset combinado en un nuevo CSV\n",
    "data_combined.to_csv(\"reviews_cascos_gaming.csv\", index=False, sep=';')"
   ]
  }
 ],
 "metadata": {
  "kernelspec": {
   "display_name": "Python 3 (ipykernel)",
   "language": "python",
   "name": "python3"
  },
  "language_info": {
   "codemirror_mode": {
    "name": "ipython",
    "version": 3
   },
   "file_extension": ".py",
   "mimetype": "text/x-python",
   "name": "python",
   "nbconvert_exporter": "python",
   "pygments_lexer": "ipython3",
   "version": "3.12.5"
  }
 },
 "nbformat": 4,
 "nbformat_minor": 5
}
