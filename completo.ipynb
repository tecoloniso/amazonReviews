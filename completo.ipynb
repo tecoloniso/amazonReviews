{
 "cells": [
  {
   "cell_type": "code",
   "execution_count": 1,
   "id": "95bd1678-af1e-41d4-8846-e5513658eca9",
   "metadata": {},
   "outputs": [
    {
     "name": "stdout",
     "output_type": "stream",
     "text": [
      "Archivo reviews_bow.csv generado con éxito.\n"
     ]
    }
   ],
   "source": [
    "import pandas as pd\n",
    "from sklearn.feature_extraction.text import CountVectorizer\n",
    "\n",
    "# Cargar el dataset\n",
    "#input_file = \"reviews_proc.csv\"\n",
    "input_file = \"reviews_prod_20_29.csv\"\n",
    "data = pd.read_csv(input_file, sep=';', encoding=\"utf-8\")\n",
    "\n",
    "# Suponiendo que las reseñas están en la columna 'review'\n",
    "reseñas = data['review'].astype(str).fillna(\"\")\n",
    "\n",
    "# Vectorización BoW\n",
    "vectorizer = CountVectorizer()\n",
    "X_bow = vectorizer.fit_transform(reseñas)\n",
    "\n",
    "# Convertir la matriz BoW en un DataFrame\n",
    "bow_df = pd.DataFrame(X_bow.toarray(), columns=vectorizer.get_feature_names_out())\n",
    "\n",
    "# Agregar las estrellas al DataFrame\n",
    "bow_df['stars'] = data['stars']\n",
    "\n",
    "# Guardar en un nuevo CSV\n",
    "bow_df.to_csv(\"reviews_bow.csv\", index=False, sep=';')\n",
    "\n",
    "print(\"Archivo reviews_bow.csv generado con éxito.\")"
   ]
  },
  {
   "cell_type": "code",
   "execution_count": 7,
   "id": "785f3498-5931-4136-baf3-830d65d652ad",
   "metadata": {},
   "outputs": [
    {
     "name": "stdout",
     "output_type": "stream",
     "text": [
      "Precisión del modelo: 0.6250\n"
     ]
    }
   ],
   "source": [
    "from sklearn.model_selection import train_test_split\n",
    "from sklearn.naive_bayes import MultinomialNB\n",
    "from sklearn.metrics import accuracy_score\n",
    "\n",
    "X_train, X_test, y_train, y_test = train_test_split(X_bow, data['stars'], test_size=0.2, random_state=42)\n",
    "\n",
    "# Entrenar modelo Naive Bayes\n",
    "model = MultinomialNB()\n",
    "model.fit(X_train, y_train)\n",
    "\n",
    "# Realizar predicciones\n",
    "y_pred = model.predict(X_test)\n",
    "\n",
    "# Evaluar modelo\n",
    "accuracy = accuracy_score(y_test, y_pred)\n",
    "print(f\"Precisión del modelo: {accuracy:.4f}\")"
   ]
  },
  {
   "cell_type": "code",
   "execution_count": null,
   "id": "3da35ea3-4e24-452a-a6ea-42d3a876b39e",
   "metadata": {},
   "outputs": [],
   "source": []
  }
 ],
 "metadata": {
  "kernelspec": {
   "display_name": "Python [conda env:.conda-py311ml]",
   "language": "python",
   "name": "conda-env-.conda-py311ml-py"
  },
  "language_info": {
   "codemirror_mode": {
    "name": "ipython",
    "version": 3
   },
   "file_extension": ".py",
   "mimetype": "text/x-python",
   "name": "python",
   "nbconvert_exporter": "python",
   "pygments_lexer": "ipython3",
   "version": "3.11.8"
  }
 },
 "nbformat": 4,
 "nbformat_minor": 5
}
