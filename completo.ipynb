{
 "cells": [
  {
   "cell_type": "code",
   "execution_count": 14,
   "id": "95bd1678-af1e-41d4-8846-e5513658eca9",
   "metadata": {},
   "outputs": [
    {
     "name": "stdout",
     "output_type": "stream",
     "text": [
      "     00  00stream  100  19  19loaded  1xplayback  31  45  5l  61  ...  ángulo  \\\n",
      "0     0         0    0   0         0           0   0   0   0   0  ...       0   \n",
      "1     0         0    0   0         0           0   0   0   0   0  ...       0   \n",
      "2     0         0    0   0         0           0   0   0   0   0  ...       0   \n",
      "3     0         0    0   0         0           0   0   0   0   0  ...       0   \n",
      "4     0         0    0   0         0           0   0   0   0   0  ...       0   \n",
      "..   ..       ...  ...  ..       ...         ...  ..  ..  ..  ..  ...     ...   \n",
      "113   0         0    0   0         0           0   0   0   0   0  ...       0   \n",
      "114   0         0    0   0         0           0   0   0   0   0  ...       0   \n",
      "115   0         0    0   0         0           0   0   0   0   0  ...       0   \n",
      "116   0         0    0   0         0           0   0   0   0   0  ...       0   \n",
      "117   0         0    0   0         0           0   0   0   0   0  ...       0   \n",
      "\n",
      "     él  és  éxito  último  única  único  útik  útil  stars  \n",
      "0     0   0      0       0      0      0     0     0      1  \n",
      "1     0   0      0       0      0      0     0     0      1  \n",
      "2     0   0      0       0      0      0     0     0      1  \n",
      "3     0   0      0       0      0      0     0     0      1  \n",
      "4     0   0      0       0      0      0     0     0      1  \n",
      "..   ..  ..    ...     ...    ...    ...   ...   ...    ...  \n",
      "113   0   0      0       0      0      0     0     0      5  \n",
      "114   0   0      0       0      0      0     0     0      5  \n",
      "115   0   0      0       0      0      0     0     0      5  \n",
      "116   0   0      0       0      0      0     0     0      5  \n",
      "117   0   0      0       0      0      0     0     0      5  \n",
      "\n",
      "[118 rows x 732 columns]\n",
      "Archivo reviews_bow.csv generado con éxito.\n"
     ]
    }
   ],
   "source": [
    "import pandas as pd\n",
    "from sklearn.feature_extraction.text import CountVectorizer\n",
    "\n",
    "# Cargar el dataset\n",
    "#input_file = \"reviews_proc.csv\"\n",
    "input_file = \"reviews_prod_20_29.csv\"\n",
    "data = pd.read_csv(input_file, sep=';', encoding=\"utf-8\")\n",
    "\n",
    "# Suponiendo que las reseñas están en la columna 'review'\n",
    "reseñas = data['review'].astype(str).fillna(\"\")\n",
    "\n",
    "# Vectorización BoW\n",
    "vectorizer = CountVectorizer()\n",
    "X_bow = vectorizer.fit_transform(reseñas)\n",
    "\n",
    "# Convertir la matriz BoW en un DataFrame\n",
    "bow_df = pd.DataFrame(X_bow.toarray(), columns=vectorizer.get_feature_names_out())\n",
    "\n",
    "# Agregar las estrellas al DataFrame\n",
    "bow_df['stars'] = data['stars']\n",
    "\n",
    "# Guardar en un nuevo CSV\n",
    "bow_df.to_csv(\"reviews_bow.csv\", index=False, sep=';')\n",
    "\n",
    "#print(data)\n",
    "#print(reseñas)\n",
    "#print(X_bow)\n",
    "print(bow_df)\n",
    "print(\"Archivo reviews_bow.csv generado con éxito.\")"
   ]
  },
  {
   "cell_type": "markdown",
   "id": "47036a6d-976f-47b5-aa99-c6dc8f57f5fc",
   "metadata": {},
   "source": [
    "# **ENTRENAMIENTO DEL MODELO**"
   ]
  },
  {
   "cell_type": "code",
   "execution_count": 9,
   "id": "785f3498-5931-4136-baf3-830d65d652ad",
   "metadata": {},
   "outputs": [
    {
     "name": "stdout",
     "output_type": "stream",
     "text": [
      "El accuracy del clasificador  Naive-Bayes  es:  62.5\n",
      "El accuracy del clasificador  SVC  es:  70.83\n",
      "El accuracy del clasificador  LogisticRegression  es:  75.0\n",
      "El accuracy del clasificador  DecisionTree  es:  70.83\n",
      "El accuracy del clasificador  Bagging  es:  75.0\n",
      "El accuracy del clasificador  Boosting  es:  66.67\n",
      "El accuracy del clasificador  RandomForest  es:  75.0\n"
     ]
    }
   ],
   "source": [
    "from sklearn.model_selection import train_test_split\n",
    "from sklearn.naive_bayes import MultinomialNB\n",
    "from sklearn.linear_model import LogisticRegression\n",
    "from sklearn.metrics import accuracy_score\n",
    "from sklearn.svm import SVC\n",
    "from sklearn.ensemble import RandomForestClassifier\n",
    "from sklearn.ensemble import AdaBoostClassifier\n",
    "from sklearn.tree import DecisionTreeClassifier\n",
    "from sklearn.ensemble import BaggingClassifier\n",
    "\n",
    "\n",
    "X_train, X_test, Y_train, Y_test = train_test_split(X_bow, data['stars'], test_size=0.2, random_state=12)\n",
    "\n",
    "def entrenar_modelo(XTrain,XTest,YTrain,YTest):\n",
    "    clasificadores = [\n",
    "        MultinomialNB(),\n",
    "        SVC(random_state = 12),\n",
    "        LogisticRegression(random_state=12),\n",
    "        DecisionTreeClassifier(criterion='entropy', random_state=12),  # Árbol de decisión base\n",
    "        BaggingClassifier(estimator=DecisionTreeClassifier(criterion='entropy', random_state=12),\n",
    "                         n_estimators=15, random_state=12),  # Bagging\n",
    "        AdaBoostClassifier(estimator=DecisionTreeClassifier(criterion='entropy', random_state=12),\n",
    "                           n_estimators=15, random_state=12,algorithm = 'SAMME'),  # Boosting\n",
    "        RandomForestClassifier(criterion='entropy', max_features='log2', n_estimators=15, random_state=12)  # Random Forest\n",
    "    ]\n",
    "    nombres = ['Naive-Bayes','SVC','LogisticRegression','DecisionTree', 'Bagging', 'Boosting', 'RandomForest']\n",
    "    for i, clasificador in enumerate(clasificadores):\n",
    "        #Entrenar modelo\n",
    "        clasificador.fit(XTrain, YTrain)\n",
    "        #Realizar prediccion\n",
    "        y_test_pred = clasificador.predict(XTest)\n",
    "        #Evaluar modelo\n",
    "        acc = round(accuracy_score(YTest, y_test_pred)*100,2)\n",
    "        print(\"El accuracy del clasificador \",nombres[i],\" es: \",acc)\n",
    "    \n",
    "    return acc\n",
    "\n",
    "acc = entrenar_modelo(X_train,X_test,Y_train,Y_test)"
   ]
  },
  {
   "cell_type": "code",
   "execution_count": null,
   "id": "3da35ea3-4e24-452a-a6ea-42d3a876b39e",
   "metadata": {},
   "outputs": [],
   "source": []
  }
 ],
 "metadata": {
  "kernelspec": {
   "display_name": "Python [conda env:.conda-py311ml]",
   "language": "python",
   "name": "conda-env-.conda-py311ml-py"
  },
  "language_info": {
   "codemirror_mode": {
    "name": "ipython",
    "version": 3
   },
   "file_extension": ".py",
   "mimetype": "text/x-python",
   "name": "python",
   "nbconvert_exporter": "python",
   "pygments_lexer": "ipython3",
   "version": "3.11.8"
  }
 },
 "nbformat": 4,
 "nbformat_minor": 5
}
