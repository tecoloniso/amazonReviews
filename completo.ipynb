{
 "cells": [
  {
   "cell_type": "code",
   "execution_count": 81,
   "id": "64703665-d654-4d7d-957c-b55bd551b20a",
   "metadata": {},
   "outputs": [
    {
     "name": "stderr",
     "output_type": "stream",
     "text": [
      "[nltk_data] Downloading package stopwords to\n",
      "[nltk_data]     C:\\Users\\34659\\AppData\\Roaming\\nltk_data...\n",
      "[nltk_data]   Package stopwords is already up-to-date!\n",
      "[nltk_data] Downloading package punkt to\n",
      "[nltk_data]     C:\\Users\\34659\\AppData\\Roaming\\nltk_data...\n",
      "[nltk_data]   Package punkt is already up-to-date!\n",
      "[nltk_data] Downloading package wordnet to\n",
      "[nltk_data]     C:\\Users\\34659\\AppData\\Roaming\\nltk_data...\n",
      "[nltk_data]   Package wordnet is already up-to-date!\n",
      "[nltk_data] Downloading package omw-1.4 to\n",
      "[nltk_data]     C:\\Users\\34659\\AppData\\Roaming\\nltk_data...\n",
      "[nltk_data]   Package omw-1.4 is already up-to-date!\n"
     ]
    }
   ],
   "source": [
    "import re\n",
    "import nltk\n",
    "from nltk.corpus import stopwords\n",
    "from nltk.tokenize import word_tokenize\n",
    "from imblearn.under_sampling import RandomUnderSampler\n",
    "from nltk.stem import WordNetLemmatizer\n",
    "from nltk.stem import PorterStemmer, SnowballStemmer\n",
    "from sklearn.feature_extraction.text import TfidfVectorizer\n",
    "import unicodedata\n",
    "\n",
    "# Descargar recursos de NLTK (si es la primera vez)\n",
    "nltk.download(\"stopwords\")\n",
    "nltk.download(\"punkt\")\n",
    "nltk.download(\"wordnet\")\n",
    "nltk.download(\"omw-1.4\")\n",
    "\n",
    "import pandas as pd\n",
    "from sklearn.feature_extraction.text import CountVectorizer"
   ]
  },
  {
   "cell_type": "code",
   "execution_count": 86,
   "id": "efae2505-0e69-4002-b562-9734c61ef4cc",
   "metadata": {},
   "outputs": [],
   "source": [
    "# Cargar los datos\n",
    "data = pd.read_csv(\"reviews_cascos_gaming.csv\",sep=';', encoding=\"utf-8\")"
   ]
  },
  {
   "cell_type": "code",
   "execution_count": 87,
   "id": "2e50b631-ac59-4a25-8997-aaf1ab2a0e64",
   "metadata": {},
   "outputs": [],
   "source": [
    "lemmatizer = WordNetLemmatizer()\n",
    "porter = PorterStemmer()\n",
    "snowball = SnowballStemmer('spanish')\n",
    "\n",
    "def quitar_tildes(texto):\n",
    "    return ''.join(c for c in unicodedata.normalize('NFD', texto) if unicodedata.category(c) != 'Mn')\n",
    "    \n",
    "def limpiar_texto(texto):\n",
    "    # Quitar tildes\n",
    "    texto = quitar_tildes(texto)\n",
    "    # Convertir a minúsculas\n",
    "    texto = texto.lower()\n",
    "    # Eliminar signos de puntuación y caracteres especiales\n",
    "    # texto = re.sub(r\"[^a-zA-Z\\s]\", \" \", texto)\n",
    "    # Tokenizar palabras\n",
    "    palabras = word_tokenize(texto)\n",
    "    # Lematizar\n",
    "    palabras = [lemmatizer.lemmatize(palabra) for palabra in palabras] \n",
    "    # Stemming\n",
    "    # palabras = [porter.stem(palabra) for palabra in word_tokenize(texto)]\n",
    "    # palabras = [snowball.stem(palabra) for palabra in word_tokenize(texto)]\n",
    "    # Eliminar stopwords\n",
    "    palabras = [palabra for palabra in palabras if palabra not in stopwords.words(\"spanish\")]\n",
    "    return \" \".join(palabras)\n",
    "\n",
    "def sin_limpiar_texto(texto):\n",
    "    return texto\n",
    "\n",
    "# Aplicar limpieza a la columna de reseñas\n",
    "data[\"review\"] = data[\"review\"].apply(limpiar_texto)"
   ]
  },
  {
   "cell_type": "code",
   "execution_count": 88,
   "id": "936fc065-6925-426e-a885-79b36a95eed9",
   "metadata": {},
   "outputs": [
    {
     "data": {
      "text/html": [
       "<div>\n",
       "<style scoped>\n",
       "    .dataframe tbody tr th:only-of-type {\n",
       "        vertical-align: middle;\n",
       "    }\n",
       "\n",
       "    .dataframe tbody tr th {\n",
       "        vertical-align: top;\n",
       "    }\n",
       "\n",
       "    .dataframe thead th {\n",
       "        text-align: right;\n",
       "    }\n",
       "</style>\n",
       "<table border=\"1\" class=\"dataframe\">\n",
       "  <thead>\n",
       "    <tr style=\"text-align: right;\">\n",
       "      <th></th>\n",
       "      <th>review</th>\n",
       "      <th>stars</th>\n",
       "    </tr>\n",
       "  </thead>\n",
       "  <tbody>\n",
       "    <tr>\n",
       "      <th>0</th>\n",
       "      <td>empezare resena explicando alguien busque grab...</td>\n",
       "      <td>1</td>\n",
       "    </tr>\n",
       "    <tr>\n",
       "      <th>1</th>\n",
       "      <td>increible llegado caja . parece decepcionante ...</td>\n",
       "      <td>1</td>\n",
       "    </tr>\n",
       "    <tr>\n",
       "      <th>2</th>\n",
       "      <td>recien compradoslos enchufas switch jack funci...</td>\n",
       "      <td>1</td>\n",
       "    </tr>\n",
       "    <tr>\n",
       "      <th>3</th>\n",
       "      <td>hola , encienden luce hacer enciendan ? gracia...</td>\n",
       "      <td>1</td>\n",
       "    </tr>\n",
       "    <tr>\n",
       "      <th>4</th>\n",
       "      <td>hace 2 ano compre hijo almohadillas estan comp...</td>\n",
       "      <td>1</td>\n",
       "    </tr>\n",
       "    <tr>\n",
       "      <th>...</th>\n",
       "      <td>...</td>\n",
       "      <td>...</td>\n",
       "    </tr>\n",
       "    <tr>\n",
       "      <th>786</th>\n",
       "      <td>sonido alta calidad . comodos . materiales cal...</td>\n",
       "      <td>5</td>\n",
       "    </tr>\n",
       "    <tr>\n",
       "      <th>787</th>\n",
       "      <td>compre hijo encantado articulo . buena calidad...</td>\n",
       "      <td>5</td>\n",
       "    </tr>\n",
       "    <tr>\n",
       "      <th>788</th>\n",
       "      <td>buen producto . funciona genial</td>\n",
       "      <td>5</td>\n",
       "    </tr>\n",
       "    <tr>\n",
       "      <th>789</th>\n",
       "      <td>auriculare gaming perfectos sonido durabilidad...</td>\n",
       "      <td>5</td>\n",
       "    </tr>\n",
       "    <tr>\n",
       "      <th>790</th>\n",
       "      <td>cogido hijo consola sonido impresionante vez p...</td>\n",
       "      <td>5</td>\n",
       "    </tr>\n",
       "  </tbody>\n",
       "</table>\n",
       "<p>791 rows × 2 columns</p>\n",
       "</div>"
      ],
      "text/plain": [
       "                                                review  stars\n",
       "0    empezare resena explicando alguien busque grab...      1\n",
       "1    increible llegado caja . parece decepcionante ...      1\n",
       "2    recien compradoslos enchufas switch jack funci...      1\n",
       "3    hola , encienden luce hacer enciendan ? gracia...      1\n",
       "4    hace 2 ano compre hijo almohadillas estan comp...      1\n",
       "..                                                 ...    ...\n",
       "786  sonido alta calidad . comodos . materiales cal...      5\n",
       "787  compre hijo encantado articulo . buena calidad...      5\n",
       "788                    buen producto . funciona genial      5\n",
       "789  auriculare gaming perfectos sonido durabilidad...      5\n",
       "790  cogido hijo consola sonido impresionante vez p...      5\n",
       "\n",
       "[791 rows x 2 columns]"
      ]
     },
     "execution_count": 88,
     "metadata": {},
     "output_type": "execute_result"
    }
   ],
   "source": [
    "#df.to_csv(\"reviews.csv\", index=False, sep=';')\n",
    "data"
   ]
  },
  {
   "cell_type": "code",
   "execution_count": 89,
   "id": "95bd1678-af1e-41d4-8846-e5513658eca9",
   "metadata": {},
   "outputs": [],
   "source": [
    "# Cargar el dataset\n",
    "# input_file = \"reviews_prod_20_29.csv\"\n",
    "# data = pd.read_csv(input_file, sep=';', encoding=\"utf-8\")\n",
    "\n",
    "# Suponiendo que las reseñas están en la columna 'review'\n",
    "reseñas = data['review'].astype(str).fillna(\"\")\n",
    "\n",
    "# Vectorización BoW\n",
    "def bow(reseñas):\n",
    "    vectorizer = CountVectorizer()\n",
    "    return vectorizer.fit_transform(reseñas)\n",
    "\n",
    "# Vectorizacion TIF\n",
    "def tif(reseñas):\n",
    "    vectorizer = TfidfVectorizer(ngram_range=(1,2), stop_words='english', max_features=5000)\n",
    "    return vectorizer.fit_transform(reseñas)\n",
    "\n",
    "X = bow(reseñas)\n",
    "# X = tif(reseñas)\n",
    "y = data['stars']"
   ]
  },
  {
   "cell_type": "markdown",
   "id": "47036a6d-976f-47b5-aa99-c6dc8f57f5fc",
   "metadata": {},
   "source": [
    "# **ENTRENAMIENTO DEL MODELO**"
   ]
  },
  {
   "cell_type": "code",
   "execution_count": 90,
   "id": "785f3498-5931-4136-baf3-830d65d652ad",
   "metadata": {},
   "outputs": [
    {
     "name": "stdout",
     "output_type": "stream",
     "text": [
      "El accuracy del clasificador  Naive-Bayes  es:  52.83\n",
      "El accuracy del clasificador  SVC  es:  52.83\n",
      "El accuracy del clasificador  LogisticRegression  es:  59.75\n"
     ]
    }
   ],
   "source": [
    "from sklearn.model_selection import train_test_split\n",
    "from sklearn.naive_bayes import MultinomialNB\n",
    "from sklearn.linear_model import LogisticRegression\n",
    "from sklearn.metrics import accuracy_score\n",
    "from sklearn.svm import SVC\n",
    "from sklearn.ensemble import RandomForestClassifier\n",
    "from sklearn.ensemble import AdaBoostClassifier\n",
    "from sklearn.tree import DecisionTreeClassifier\n",
    "from sklearn.ensemble import BaggingClassifier\n",
    "\n",
    "X_train, X_test, Y_train, Y_test = train_test_split(X, y, test_size=0.2, random_state=12)\n",
    "\n",
    "\n",
    "def entrenar_modelo(XTrain,XTest,YTrain,YTest):\n",
    "    clasificadores = [\n",
    "        MultinomialNB(alpha = 2),\n",
    "        SVC(random_state = 12),\n",
    "        LogisticRegression(random_state=12, class_weight=\"balanced\", C = 1),\n",
    "        # DecisionTreeClassifier(criterion='entropy', random_state=12),  # Árbol de decisión base\n",
    "        # BaggingClassifier(estimator=DecisionTreeClassifier(criterion='entropy', random_state=12),\n",
    "                         # n_estimators=15, random_state=12),  # Bagging\n",
    "        # AdaBoostClassifier(estimator=DecisionTreeClassifier(criterion='entropy', random_state=12),\n",
    "                           # n_estimators=15, random_state=12,algorithm = 'SAMME'),  # Boosting\n",
    "        # RandomForestClassifier(criterion='entropy', n_estimators=15, random_state=12)  # Random Forest\n",
    "    ]\n",
    "    nombres = ['Naive-Bayes','SVC','LogisticRegression','DecisionTree', 'Bagging', 'Boosting', 'RandomForest']\n",
    "    for i, clasificador in enumerate(clasificadores):\n",
    "        #Entrenar modelo\n",
    "        clasificador.fit(XTrain, YTrain)\n",
    "        #Realizar prediccion\n",
    "        y_test_pred = clasificador.predict(XTest)\n",
    "        #Evaluar modelo\n",
    "        acc = round(accuracy_score(YTest, y_test_pred)*100,2)\n",
    "        print(\"El accuracy del clasificador \",nombres[i],\" es: \",acc)\n",
    "    \n",
    "    return acc\n",
    "\n",
    "acc = entrenar_modelo(X_train,X_test,Y_train,Y_test)"
   ]
  },
  {
   "cell_type": "code",
   "execution_count": 71,
   "id": "61b23d05-9371-4fbe-ab9c-aa95d4ae12a0",
   "metadata": {},
   "outputs": [
    {
     "data": {
      "image/png": "[encoded data removed]",
      "text/plain": [
       "<Figure size 800x500 with 1 Axes>"
      ]
     },
     "metadata": {},
     "output_type": "display_data"
    }
   ],
   "source": [
    "import matplotlib.pyplot as plt\n",
    "\n",
    "# Crear histograma de la distribución de estrellas\n",
    "plt.figure(figsize=(8, 5))\n",
    "plt.hist(y, bins=range(1, 8), edgecolor='black', align='left')\n",
    "plt.xticks(range(1, 6))  # Ajustar ticks a las puntuaciones de 1 a 5\n",
    "plt.xlabel(\"Estrellas\")\n",
    "plt.ylabel(\"Número de reseñas\")\n",
    "plt.title(\"Distribución de reseñas por puntuación de estrellas\")\n",
    "plt.grid(axis='y', linestyle='--', alpha=0.7)\n",
    "plt.show()\n"
   ]
  }
 ],
 "metadata": {
  "kernelspec": {
   "display_name": "Python 3 (ipykernel)",
   "language": "python",
   "name": "python3"
  },
  "language_info": {
   "codemirror_mode": {
    "name": "ipython",
    "version": 3
   },
   "file_extension": ".py",
   "mimetype": "text/x-python",
   "name": "python",
   "nbconvert_exporter": "python",
   "pygments_lexer": "ipython3",
   "version": "3.12.5"
  }
 },
 "nbformat": 4,
 "nbformat_minor": 5
}
